{
  "nbformat": 4,
  "nbformat_minor": 0,
  "metadata": {
    "colab": {
      "name": "TF2.0-TransferLearningVGG16_3.ipynb",
      "provenance": [],
      "authorship_tag": "ABX9TyMH9eha3NPY2+MmHc9XQ8xg",
      "include_colab_link": true
    },
    "kernelspec": {
      "name": "python3",
      "display_name": "Python 3"
    },
    "accelerator": "GPU"
  },
  "cells": [
    {
      "cell_type": "markdown",
      "metadata": {
        "id": "view-in-github",
        "colab_type": "text"
      },
      "source": [
        "<a href=\"https://colab.research.google.com/github/ArunabhaDeb2018/DeepLearning_CNN/blob/master/TF2_0_TransferLearningVGG16_3.ipynb\" target=\"_parent\"><img src=\"https://colab.research.google.com/assets/colab-badge.svg\" alt=\"Open In Colab\"/></a>"
      ]
    },
    {
      "cell_type": "markdown",
      "metadata": {
        "id": "aQCNa-etMWWL",
        "colab_type": "text"
      },
      "source": [
        "\n",
        "***Transfer Learning-3 with VGG16:- ***Cifar-10 is taken as dataset. Freez all but last Conv blocks .Fine tuning the last conv bloc only.End to end training after freezing the conv layers of vgg16 https://nbviewer.jupyter.org/github/fchollet/deep-learning-with-python-notebooks/blob/master/5.3-using-a-pretrained-convnet.ipynb"
      ]
    },
    {
      "cell_type": "code",
      "metadata": {
        "id": "du_XXgW4MIXq",
        "colab_type": "code",
        "colab": {}
      },
      "source": [
        "import tensorflow as tf\n",
        "from tensorflow.keras.layers import Dense,Flatten,MaxPool2D,Activation,BatchNormalization,Dropout,Input,Conv2D\n",
        "from tensorflow.keras.models import Model\n",
        "from tensorflow.keras.applications.vgg16 import  VGG16,preprocess_input"
      ],
      "execution_count": null,
      "outputs": []
    },
    {
      "cell_type": "code",
      "metadata": {
        "id": "GSvX4JegMnLF",
        "colab_type": "code",
        "colab": {}
      },
      "source": [
        "from tensorflow.keras.datasets import cifar10"
      ],
      "execution_count": null,
      "outputs": []
    },
    {
      "cell_type": "code",
      "metadata": {
        "id": "Z3DYVkn0MosO",
        "colab_type": "code",
        "colab": {}
      },
      "source": [
        "import numpy as np\n",
        "import matplotlib.pyplot as plt"
      ],
      "execution_count": null,
      "outputs": []
    },
    {
      "cell_type": "code",
      "metadata": {
        "id": "XV8HkgJXMq5W",
        "colab_type": "code",
        "colab": {
          "base_uri": "https://localhost:8080/",
          "height": 51
        },
        "outputId": "adac5a38-098d-4390-b94f-95166bbe732a"
      },
      "source": [
        "(X_train,y_train),(X_test,y_test)=cifar10.load_data()"
      ],
      "execution_count": null,
      "outputs": [
        {
          "output_type": "stream",
          "text": [
            "Downloading data from https://www.cs.toronto.edu/~kriz/cifar-10-python.tar.gz\n",
            "170500096/170498071 [==============================] - 6s 0us/step\n"
          ],
          "name": "stdout"
        }
      ]
    },
    {
      "cell_type": "code",
      "metadata": {
        "id": "NwXJ-7-JMtq5",
        "colab_type": "code",
        "colab": {}
      },
      "source": [
        "X_train_vgg16,X_test_vgg16=preprocess_input(X_train),preprocess_input(X_test);"
      ],
      "execution_count": null,
      "outputs": []
    },
    {
      "cell_type": "code",
      "metadata": {
        "id": "A_utAWIrMwgO",
        "colab_type": "code",
        "colab": {}
      },
      "source": [
        "K=len(set(y_train[:,0]))#Number of classes"
      ],
      "execution_count": null,
      "outputs": []
    },
    {
      "cell_type": "code",
      "metadata": {
        "id": "38QEIwGbMyXg",
        "colab_type": "code",
        "colab": {
          "base_uri": "https://localhost:8080/",
          "height": 51
        },
        "outputId": "d53901a5-6f4f-4915-e64b-a6a8ba5a4269"
      },
      "source": [
        "conv_layers_vgg16=VGG16(weights='imagenet', input_shape=X_train_vgg16[0].shape,include_top=False)#Will not inlcude any FC layers,only CONV blocks"
      ],
      "execution_count": null,
      "outputs": [
        {
          "output_type": "stream",
          "text": [
            "Downloading data from https://storage.googleapis.com/tensorflow/keras-applications/vgg16/vgg16_weights_tf_dim_ordering_tf_kernels_notop.h5\n",
            "58892288/58889256 [==============================] - 1s 0us/step\n"
          ],
          "name": "stdout"
        }
      ]
    },
    {
      "cell_type": "code",
      "metadata": {
        "id": "h3yOG0ZOM1Ah",
        "colab_type": "code",
        "colab": {}
      },
      "source": [
        "#conv_layers_vgg16.summary()"
      ],
      "execution_count": null,
      "outputs": []
    },
    {
      "cell_type": "code",
      "metadata": {
        "id": "50YEMz3AM5Wd",
        "colab_type": "code",
        "colab": {}
      },
      "source": [
        "#vgg16_whole_net=VGG16()\n",
        "#vgg16_whole_net.summary()"
      ],
      "execution_count": null,
      "outputs": []
    },
    {
      "cell_type": "code",
      "metadata": {
        "id": "PKvCEH7lM-yQ",
        "colab_type": "code",
        "colab": {}
      },
      "source": [
        "\n",
        "# Creating dictionary that maps layer names to the layers\n",
        "layer_dict = dict([(layer.name, layer) for layer in conv_layers_vgg16.layers])\n"
      ],
      "execution_count": null,
      "outputs": []
    },
    {
      "cell_type": "code",
      "metadata": {
        "id": "wwkfHW_0Nv60",
        "colab_type": "code",
        "colab": {}
      },
      "source": [
        "# If we want to get rid of 5th conv block we could uncomment this below line\n",
        "#x = layer_dict['block4_pool'].output\n",
        "x=conv_layers_vgg16.output #comment this line if above line is uncommented"
      ],
      "execution_count": null,
      "outputs": []
    },
    {
      "cell_type": "code",
      "metadata": {
        "id": "moBjkBy_OC7U",
        "colab_type": "code",
        "colab": {}
      },
      "source": [
        "x=Flatten()(x)"
      ],
      "execution_count": null,
      "outputs": []
    },
    {
      "cell_type": "code",
      "metadata": {
        "id": "ml8k9BL0OenN",
        "colab_type": "code",
        "colab": {}
      },
      "source": [
        "x=Dense(512,activation='relu')(x)\n",
        "x=Dropout(0.5)(x)"
      ],
      "execution_count": null,
      "outputs": []
    },
    {
      "cell_type": "code",
      "metadata": {
        "id": "rj9bBo44OhRR",
        "colab_type": "code",
        "colab": {}
      },
      "source": [
        "x=Dense(128,activation='relu')(x)\n",
        "x=Dropout(0.2)(x)"
      ],
      "execution_count": null,
      "outputs": []
    },
    {
      "cell_type": "code",
      "metadata": {
        "id": "osTl4tfGOjnN",
        "colab_type": "code",
        "colab": {}
      },
      "source": [
        "x=Dense(K,activation='softmax')(x)"
      ],
      "execution_count": null,
      "outputs": []
    },
    {
      "cell_type": "code",
      "metadata": {
        "id": "qGkK7UbQOlh9",
        "colab_type": "code",
        "colab": {}
      },
      "source": [
        "model=Model(inputs=conv_layers_vgg16.input,outputs=x)"
      ],
      "execution_count": null,
      "outputs": []
    },
    {
      "cell_type": "code",
      "metadata": {
        "id": "flbEh3RWOo-0",
        "colab_type": "code",
        "colab": {}
      },
      "source": [
        "conv_layers_vgg16.trainable = True\n",
        "\n",
        "set_trainable = False\n",
        "for layer in conv_layers_vgg16.layers:\n",
        "    if layer.name == 'block5_conv1':\n",
        "        set_trainable = True\n",
        "    if set_trainable:\n",
        "        layer.trainable = True\n",
        "    else:\n",
        "        layer.trainable = False"
      ],
      "execution_count": null,
      "outputs": []
    },
    {
      "cell_type": "code",
      "metadata": {
        "id": "wzQwCLcdO3da",
        "colab_type": "code",
        "colab": {
          "base_uri": "https://localhost:8080/",
          "height": 34
        },
        "outputId": "260d5774-a91c-41dc-951d-d3147ebd6116"
      },
      "source": [
        "print('Number of trainable weights after frezing vgg16 conv layers=',len(model.trainable_weights))"
      ],
      "execution_count": null,
      "outputs": [
        {
          "output_type": "stream",
          "text": [
            "Number of trainable weights after frezing vgg16 conv layers= 12\n"
          ],
          "name": "stdout"
        }
      ]
    },
    {
      "cell_type": "code",
      "metadata": {
        "id": "fli6aLz3O9Kz",
        "colab_type": "code",
        "colab": {
          "base_uri": "https://localhost:8080/",
          "height": 1000
        },
        "outputId": "735da4b2-ce35-419a-c9fb-5708d37bc9de"
      },
      "source": [
        "model.summary()"
      ],
      "execution_count": null,
      "outputs": [
        {
          "output_type": "stream",
          "text": [
            "Model: \"functional_1\"\n",
            "_________________________________________________________________\n",
            "Layer (type)                 Output Shape              Param #   \n",
            "=================================================================\n",
            "input_1 (InputLayer)         [(None, 32, 32, 3)]       0         \n",
            "_________________________________________________________________\n",
            "block1_conv1 (Conv2D)        (None, 32, 32, 64)        1792      \n",
            "_________________________________________________________________\n",
            "block1_conv2 (Conv2D)        (None, 32, 32, 64)        36928     \n",
            "_________________________________________________________________\n",
            "block1_pool (MaxPooling2D)   (None, 16, 16, 64)        0         \n",
            "_________________________________________________________________\n",
            "block2_conv1 (Conv2D)        (None, 16, 16, 128)       73856     \n",
            "_________________________________________________________________\n",
            "block2_conv2 (Conv2D)        (None, 16, 16, 128)       147584    \n",
            "_________________________________________________________________\n",
            "block2_pool (MaxPooling2D)   (None, 8, 8, 128)         0         \n",
            "_________________________________________________________________\n",
            "block3_conv1 (Conv2D)        (None, 8, 8, 256)         295168    \n",
            "_________________________________________________________________\n",
            "block3_conv2 (Conv2D)        (None, 8, 8, 256)         590080    \n",
            "_________________________________________________________________\n",
            "block3_conv3 (Conv2D)        (None, 8, 8, 256)         590080    \n",
            "_________________________________________________________________\n",
            "block3_pool (MaxPooling2D)   (None, 4, 4, 256)         0         \n",
            "_________________________________________________________________\n",
            "block4_conv1 (Conv2D)        (None, 4, 4, 512)         1180160   \n",
            "_________________________________________________________________\n",
            "block4_conv2 (Conv2D)        (None, 4, 4, 512)         2359808   \n",
            "_________________________________________________________________\n",
            "block4_conv3 (Conv2D)        (None, 4, 4, 512)         2359808   \n",
            "_________________________________________________________________\n",
            "block4_pool (MaxPooling2D)   (None, 2, 2, 512)         0         \n",
            "_________________________________________________________________\n",
            "block5_conv1 (Conv2D)        (None, 2, 2, 512)         2359808   \n",
            "_________________________________________________________________\n",
            "block5_conv2 (Conv2D)        (None, 2, 2, 512)         2359808   \n",
            "_________________________________________________________________\n",
            "block5_conv3 (Conv2D)        (None, 2, 2, 512)         2359808   \n",
            "_________________________________________________________________\n",
            "block5_pool (MaxPooling2D)   (None, 1, 1, 512)         0         \n",
            "_________________________________________________________________\n",
            "flatten (Flatten)            (None, 512)               0         \n",
            "_________________________________________________________________\n",
            "dense (Dense)                (None, 512)               262656    \n",
            "_________________________________________________________________\n",
            "dropout (Dropout)            (None, 512)               0         \n",
            "_________________________________________________________________\n",
            "dense_1 (Dense)              (None, 128)               65664     \n",
            "_________________________________________________________________\n",
            "dropout_1 (Dropout)          (None, 128)               0         \n",
            "_________________________________________________________________\n",
            "dense_2 (Dense)              (None, 10)                1290      \n",
            "=================================================================\n",
            "Total params: 15,044,298\n",
            "Trainable params: 7,409,034\n",
            "Non-trainable params: 7,635,264\n",
            "_________________________________________________________________\n"
          ],
          "name": "stdout"
        }
      ]
    },
    {
      "cell_type": "code",
      "metadata": {
        "id": "yh8Lgq7BQT_3",
        "colab_type": "code",
        "colab": {}
      },
      "source": [
        "#The reason for using a low learning rate is that we want to limit the magnitude of the modifications we make to the representations of the 3 layers that we are fine-tuning. Updates that are too large may harm these representations.\n",
        "model.compile(optimizer=tf.keras.optimizers.Adam(learning_rate=0.0001),loss='sparse_categorical_crossentropy',metrics=['accuracy'])\n"
      ],
      "execution_count": null,
      "outputs": []
    },
    {
      "cell_type": "code",
      "metadata": {
        "id": "t6QjFwV-Rjus",
        "colab_type": "code",
        "colab": {
          "base_uri": "https://localhost:8080/",
          "height": 1000
        },
        "outputId": "252c57cf-f1ee-4c34-8130-2c25b32af9ba"
      },
      "source": [
        "model.fit(X_train_vgg16,y_train,epochs=50,batch_size=32,validation_data=(X_test_vgg16,y_test))"
      ],
      "execution_count": null,
      "outputs": [
        {
          "output_type": "stream",
          "text": [
            "Epoch 1/50\n",
            "1563/1563 [==============================] - 26s 16ms/step - loss: 2.1124 - accuracy: 0.2224 - val_loss: 1.7770 - val_accuracy: 0.3655\n",
            "Epoch 2/50\n",
            "1563/1563 [==============================] - 26s 16ms/step - loss: 1.0871 - accuracy: 0.6284 - val_loss: 0.7771 - val_accuracy: 0.7473\n",
            "Epoch 3/50\n",
            "1563/1563 [==============================] - 26s 16ms/step - loss: 0.7010 - accuracy: 0.7737 - val_loss: 0.7058 - val_accuracy: 0.7671\n",
            "Epoch 4/50\n",
            "1563/1563 [==============================] - 25s 16ms/step - loss: 0.5632 - accuracy: 0.8165 - val_loss: 0.6575 - val_accuracy: 0.7851\n",
            "Epoch 5/50\n",
            "1563/1563 [==============================] - 25s 16ms/step - loss: 0.4532 - accuracy: 0.8503 - val_loss: 0.6773 - val_accuracy: 0.7874\n",
            "Epoch 6/50\n",
            "1563/1563 [==============================] - 26s 16ms/step - loss: 0.3623 - accuracy: 0.8798 - val_loss: 0.7387 - val_accuracy: 0.7853\n",
            "Epoch 7/50\n",
            "1563/1563 [==============================] - 25s 16ms/step - loss: 0.2888 - accuracy: 0.9062 - val_loss: 0.7520 - val_accuracy: 0.7912\n",
            "Epoch 8/50\n",
            "1563/1563 [==============================] - 25s 16ms/step - loss: 0.2402 - accuracy: 0.9214 - val_loss: 0.7651 - val_accuracy: 0.7959\n",
            "Epoch 9/50\n",
            "1563/1563 [==============================] - 26s 16ms/step - loss: 0.1951 - accuracy: 0.9369 - val_loss: 0.8219 - val_accuracy: 0.7979\n",
            "Epoch 10/50\n",
            "1563/1563 [==============================] - 26s 16ms/step - loss: 0.1550 - accuracy: 0.9501 - val_loss: 0.9158 - val_accuracy: 0.7944\n",
            "Epoch 11/50\n",
            "1563/1563 [==============================] - 26s 16ms/step - loss: 0.1354 - accuracy: 0.9576 - val_loss: 0.9763 - val_accuracy: 0.7950\n",
            "Epoch 12/50\n",
            "1563/1563 [==============================] - 25s 16ms/step - loss: 0.1218 - accuracy: 0.9623 - val_loss: 0.9642 - val_accuracy: 0.7898\n",
            "Epoch 13/50\n",
            "1563/1563 [==============================] - 25s 16ms/step - loss: 0.1078 - accuracy: 0.9675 - val_loss: 1.0269 - val_accuracy: 0.7986\n",
            "Epoch 14/50\n",
            "1563/1563 [==============================] - 26s 16ms/step - loss: 0.0955 - accuracy: 0.9711 - val_loss: 1.0632 - val_accuracy: 0.7884\n",
            "Epoch 15/50\n",
            "1563/1563 [==============================] - 26s 16ms/step - loss: 0.0920 - accuracy: 0.9724 - val_loss: 1.0042 - val_accuracy: 0.7921\n",
            "Epoch 16/50\n",
            "1563/1563 [==============================] - 26s 16ms/step - loss: 0.0785 - accuracy: 0.9756 - val_loss: 1.1682 - val_accuracy: 0.8013\n",
            "Epoch 17/50\n",
            "1563/1563 [==============================] - 26s 16ms/step - loss: 0.0765 - accuracy: 0.9772 - val_loss: 1.0981 - val_accuracy: 0.7999\n",
            "Epoch 18/50\n",
            "1563/1563 [==============================] - 25s 16ms/step - loss: 0.0676 - accuracy: 0.9800 - val_loss: 1.1865 - val_accuracy: 0.7924\n",
            "Epoch 19/50\n",
            "1563/1563 [==============================] - 25s 16ms/step - loss: 0.0706 - accuracy: 0.9797 - val_loss: 1.1279 - val_accuracy: 0.7916\n",
            "Epoch 20/50\n",
            "1563/1563 [==============================] - 25s 16ms/step - loss: 0.0583 - accuracy: 0.9828 - val_loss: 1.1552 - val_accuracy: 0.7966\n",
            "Epoch 21/50\n",
            "1563/1563 [==============================] - 26s 16ms/step - loss: 0.0607 - accuracy: 0.9814 - val_loss: 1.2968 - val_accuracy: 0.7885\n",
            "Epoch 22/50\n",
            "1563/1563 [==============================] - 26s 16ms/step - loss: 0.0527 - accuracy: 0.9841 - val_loss: 1.2021 - val_accuracy: 0.7939\n",
            "Epoch 23/50\n",
            "1563/1563 [==============================] - 25s 16ms/step - loss: 0.0544 - accuracy: 0.9839 - val_loss: 1.3353 - val_accuracy: 0.7988\n",
            "Epoch 24/50\n",
            "1563/1563 [==============================] - 25s 16ms/step - loss: 0.0543 - accuracy: 0.9844 - val_loss: 1.4717 - val_accuracy: 0.7991\n",
            "Epoch 25/50\n",
            "1563/1563 [==============================] - 26s 16ms/step - loss: 0.0519 - accuracy: 0.9862 - val_loss: 1.3150 - val_accuracy: 0.7915\n",
            "Epoch 26/50\n",
            "1563/1563 [==============================] - 26s 16ms/step - loss: 0.0512 - accuracy: 0.9846 - val_loss: 1.3797 - val_accuracy: 0.7992\n",
            "Epoch 27/50\n",
            "1563/1563 [==============================] - 26s 16ms/step - loss: 0.0460 - accuracy: 0.9867 - val_loss: 1.3237 - val_accuracy: 0.7914\n",
            "Epoch 28/50\n",
            "1563/1563 [==============================] - 26s 16ms/step - loss: 0.0422 - accuracy: 0.9886 - val_loss: 1.4112 - val_accuracy: 0.7921\n",
            "Epoch 29/50\n",
            "1563/1563 [==============================] - 25s 16ms/step - loss: 0.0441 - accuracy: 0.9879 - val_loss: 1.5763 - val_accuracy: 0.7819\n",
            "Epoch 30/50\n",
            "1563/1563 [==============================] - 25s 16ms/step - loss: 0.0433 - accuracy: 0.9873 - val_loss: 1.4009 - val_accuracy: 0.7968\n",
            "Epoch 31/50\n",
            "1563/1563 [==============================] - 25s 16ms/step - loss: 0.0510 - accuracy: 0.9863 - val_loss: 1.2623 - val_accuracy: 0.7999\n",
            "Epoch 32/50\n",
            "1563/1563 [==============================] - 25s 16ms/step - loss: 0.0410 - accuracy: 0.9891 - val_loss: 1.3651 - val_accuracy: 0.7906\n",
            "Epoch 33/50\n",
            "1563/1563 [==============================] - 26s 16ms/step - loss: 0.0333 - accuracy: 0.9903 - val_loss: 1.5715 - val_accuracy: 0.7899\n",
            "Epoch 34/50\n",
            "1563/1563 [==============================] - 25s 16ms/step - loss: 0.0450 - accuracy: 0.9881 - val_loss: 1.3622 - val_accuracy: 0.7992\n",
            "Epoch 35/50\n",
            "1563/1563 [==============================] - 26s 16ms/step - loss: 0.0366 - accuracy: 0.9899 - val_loss: 1.5212 - val_accuracy: 0.7968\n",
            "Epoch 36/50\n",
            "1563/1563 [==============================] - 25s 16ms/step - loss: 0.0387 - accuracy: 0.9902 - val_loss: 1.3943 - val_accuracy: 0.7958\n",
            "Epoch 37/50\n",
            "1563/1563 [==============================] - 26s 16ms/step - loss: 0.0420 - accuracy: 0.9880 - val_loss: 1.2450 - val_accuracy: 0.8006\n",
            "Epoch 38/50\n",
            "1563/1563 [==============================] - 26s 16ms/step - loss: 0.0270 - accuracy: 0.9922 - val_loss: 1.4895 - val_accuracy: 0.8009\n",
            "Epoch 39/50\n",
            "1563/1563 [==============================] - 25s 16ms/step - loss: 0.0398 - accuracy: 0.9894 - val_loss: 1.5651 - val_accuracy: 0.7972\n",
            "Epoch 40/50\n",
            "1563/1563 [==============================] - 26s 16ms/step - loss: 0.0327 - accuracy: 0.9912 - val_loss: 1.5243 - val_accuracy: 0.7935\n",
            "Epoch 41/50\n",
            "1563/1563 [==============================] - 26s 16ms/step - loss: 0.0388 - accuracy: 0.9899 - val_loss: 1.4557 - val_accuracy: 0.7921\n",
            "Epoch 42/50\n",
            "1563/1563 [==============================] - 26s 16ms/step - loss: 0.0267 - accuracy: 0.9927 - val_loss: 1.4377 - val_accuracy: 0.7981\n",
            "Epoch 43/50\n",
            "1563/1563 [==============================] - 25s 16ms/step - loss: 0.0379 - accuracy: 0.9908 - val_loss: 1.5544 - val_accuracy: 0.8063\n",
            "Epoch 44/50\n",
            "1563/1563 [==============================] - 26s 16ms/step - loss: 0.0324 - accuracy: 0.9916 - val_loss: 1.5601 - val_accuracy: 0.7994\n",
            "Epoch 45/50\n",
            "1563/1563 [==============================] - 26s 16ms/step - loss: 0.0295 - accuracy: 0.9923 - val_loss: 1.6478 - val_accuracy: 0.8031\n",
            "Epoch 46/50\n",
            "1563/1563 [==============================] - 25s 16ms/step - loss: 0.0329 - accuracy: 0.9913 - val_loss: 1.7094 - val_accuracy: 0.8080\n",
            "Epoch 47/50\n",
            "1563/1563 [==============================] - 26s 16ms/step - loss: 0.0301 - accuracy: 0.9922 - val_loss: 1.3969 - val_accuracy: 0.7962\n",
            "Epoch 48/50\n",
            "1563/1563 [==============================] - 25s 16ms/step - loss: 0.0266 - accuracy: 0.9931 - val_loss: 1.5968 - val_accuracy: 0.7995\n",
            "Epoch 49/50\n",
            "1563/1563 [==============================] - 26s 16ms/step - loss: 0.0368 - accuracy: 0.9912 - val_loss: 1.5259 - val_accuracy: 0.7980\n",
            "Epoch 50/50\n",
            "1563/1563 [==============================] - 25s 16ms/step - loss: 0.0317 - accuracy: 0.9917 - val_loss: 1.5996 - val_accuracy: 0.7980\n"
          ],
          "name": "stdout"
        },
        {
          "output_type": "execute_result",
          "data": {
            "text/plain": [
              "<tensorflow.python.keras.callbacks.History at 0x7fa43004d780>"
            ]
          },
          "metadata": {
            "tags": []
          },
          "execution_count": 21
        }
      ]
    },
    {
      "cell_type": "code",
      "metadata": {
        "id": "opi8Ug5NRoRz",
        "colab_type": "code",
        "colab": {
          "base_uri": "https://localhost:8080/",
          "height": 282
        },
        "outputId": "16dad0e5-4585-4805-a788-7f74b04b26b6"
      },
      "source": [
        "plt.plot(model.history.history['loss'],label='train_loss')\n",
        "plt.plot(model.history.history['val_loss'],label='val_loss')\n",
        "plt.legend()"
      ],
      "execution_count": null,
      "outputs": [
        {
          "output_type": "execute_result",
          "data": {
            "text/plain": [
              "<matplotlib.legend.Legend at 0x7fa3daf352b0>"
            ]
          },
          "metadata": {
            "tags": []
          },
          "execution_count": 22
        },
        {
          "output_type": "display_data",
          "data": {
            "image/png": "[encoded data removed]",
            "text/plain": [
              "<Figure size 432x288 with 1 Axes>"
            ]
          },
          "metadata": {
            "tags": [],
            "needs_background": "light"
          }
        }
      ]
    },
    {
      "cell_type": "code",
      "metadata": {
        "id": "htEU94UHYqKL",
        "colab_type": "code",
        "colab": {
          "base_uri": "https://localhost:8080/",
          "height": 282
        },
        "outputId": "ee96c78e-867c-4579-973d-7aa70346c973"
      },
      "source": [
        "plt.plot(model.history.history['accuracy'],label='train_accuracy')\n",
        "plt.plot(model.history.history['val_accuracy'],label='val_accuracy')\n",
        "plt.legend()"
      ],
      "execution_count": null,
      "outputs": [
        {
          "output_type": "execute_result",
          "data": {
            "text/plain": [
              "<matplotlib.legend.Legend at 0x7fa3daee7978>"
            ]
          },
          "metadata": {
            "tags": []
          },
          "execution_count": 23
        },
        {
          "output_type": "display_data",
          "data": {
            "image/png": "[encoded data removed]",
            "text/plain": [
              "<Figure size 432x288 with 1 Axes>"
            ]
          },
          "metadata": {
            "tags": [],
            "needs_background": "light"
          }
        }
      ]
    },
    {
      "cell_type": "code",
      "metadata": {
        "id": "iFSeIBSCYusq",
        "colab_type": "code",
        "colab": {
          "base_uri": "https://localhost:8080/",
          "height": 166
        },
        "outputId": "f6cce11a-7be9-4c25-8573-12a0e304a27d"
      },
      "source": [
        "print(model.summary())"
      ],
      "execution_count": null,
      "outputs": [
        {
          "output_type": "error",
          "ename": "NameError",
          "evalue": "ignored",
          "traceback": [
            "\u001b[0;31m---------------------------------------------------------------------------\u001b[0m",
            "\u001b[0;31mNameError\u001b[0m                                 Traceback (most recent call last)",
            "\u001b[0;32m<ipython-input-1-3caefa261807>\u001b[0m in \u001b[0;36m<module>\u001b[0;34m()\u001b[0m\n\u001b[0;32m----> 1\u001b[0;31m \u001b[0mprint\u001b[0m\u001b[0;34m(\u001b[0m\u001b[0mmodel\u001b[0m\u001b[0;34m.\u001b[0m\u001b[0msummary\u001b[0m\u001b[0;34m(\u001b[0m\u001b[0;34m)\u001b[0m\u001b[0;34m)\u001b[0m\u001b[0;34m\u001b[0m\u001b[0;34m\u001b[0m\u001b[0m\n\u001b[0m",
            "\u001b[0;31mNameError\u001b[0m: name 'model' is not defined"
          ]
        }
      ]
    },
    {
      "cell_type": "code",
      "metadata": {
        "id": "qtVaVKuPYwij",
        "colab_type": "code",
        "colab": {}
      },
      "source": [
        ""
      ],
      "execution_count": null,
      "outputs": []
    }
  ]
}