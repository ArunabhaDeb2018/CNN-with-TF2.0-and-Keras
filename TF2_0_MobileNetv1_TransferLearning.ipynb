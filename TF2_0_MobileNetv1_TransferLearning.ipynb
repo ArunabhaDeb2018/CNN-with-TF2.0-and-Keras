{
  "nbformat": 4,
  "nbformat_minor": 0,
  "metadata": {
    "colab": {
      "name": "TF2.0-MobileNetv1_TransferLearning.ipynb",
      "provenance": [],
      "authorship_tag": "ABX9TyNrbTRJmAsssrFAbUX7aGkb",
      "include_colab_link": true
    },
    "kernelspec": {
      "name": "python3",
      "display_name": "Python 3"
    },
    "accelerator": "GPU"
  },
  "cells": [
    {
      "cell_type": "markdown",
      "metadata": {
        "id": "view-in-github",
        "colab_type": "text"
      },
      "source": [
        "<a href=\"https://colab.research.google.com/github/ArunabhaDeb2018/DeepLearning_CNN/blob/master/TF2_0_MobileNetv1_TransferLearning.ipynb\" target=\"_parent\"><img src=\"https://colab.research.google.com/assets/colab-badge.svg\" alt=\"Open In Colab\"/></a>"
      ]
    },
    {
      "cell_type": "markdown",
      "metadata": {
        "id": "QqE7EHKMXpGE",
        "colab_type": "text"
      },
      "source": [
        "Using Keras MobileNetv1 model on cifar-10 dataset"
      ]
    },
    {
      "cell_type": "code",
      "metadata": {
        "id": "KM99VbdaXgr3",
        "colab_type": "code",
        "colab": {}
      },
      "source": [
        "import tensorflow as tf\n",
        "from tensorflow.keras.layers import Dense,Flatten,MaxPool2D,Activation,BatchNormalization,Dropout,Input,Conv2D,GlobalAveragePooling2D\n",
        "from tensorflow.keras.models import Model\n",
        "from tensorflow.keras.datasets import cifar10\n",
        "from tensorflow.keras.applications.mobilenet import MobileNet\n",
        "from tensorflow.keras.applications.mobilenet import preprocess_input"
      ],
      "execution_count": null,
      "outputs": []
    },
    {
      "cell_type": "code",
      "metadata": {
        "id": "AP_UZWBUX0FZ",
        "colab_type": "code",
        "colab": {}
      },
      "source": [
        "import numpy as np\n",
        "import matplotlib.pyplot as plt"
      ],
      "execution_count": null,
      "outputs": []
    },
    {
      "cell_type": "code",
      "metadata": {
        "id": "UwEr6-IIX53O",
        "colab_type": "code",
        "colab": {
          "base_uri": "https://localhost:8080/",
          "height": 52
        },
        "outputId": "4293df1c-e282-4c69-ada3-f3af7a8d9a09"
      },
      "source": [
        "(X_train,y_train),(X_test,y_test)=cifar10.load_data()"
      ],
      "execution_count": null,
      "outputs": [
        {
          "output_type": "stream",
          "text": [
            "Downloading data from https://www.cs.toronto.edu/~kriz/cifar-10-python.tar.gz\n",
            "170500096/170498071 [==============================] - 4s 0us/step\n"
          ],
          "name": "stdout"
        }
      ]
    },
    {
      "cell_type": "code",
      "metadata": {
        "id": "Obtn0DZ-a9pw",
        "colab_type": "code",
        "colab": {}
      },
      "source": [
        "num_classes=len(set(y_train[:,0]))\n"
      ],
      "execution_count": null,
      "outputs": []
    },
    {
      "cell_type": "code",
      "metadata": {
        "id": "ZApiiFUFY0wa",
        "colab_type": "code",
        "colab": {}
      },
      "source": [
        "X_train=preprocess_input(X_train)\n",
        "X_test=preprocess_input(X_test)"
      ],
      "execution_count": null,
      "outputs": []
    },
    {
      "cell_type": "code",
      "metadata": {
        "id": "3CKNexvlZs70",
        "colab_type": "code",
        "colab": {}
      },
      "source": [
        ""
      ],
      "execution_count": null,
      "outputs": []
    },
    {
      "cell_type": "code",
      "metadata": {
        "id": "R-WY9kFoaL-C",
        "colab_type": "code",
        "colab": {
          "base_uri": "https://localhost:8080/",
          "height": 89
        },
        "outputId": "073532f8-089d-465e-e216-cde2aaf18847"
      },
      "source": [
        "model=MobileNet(include_top=False,input_shape=X_train[0].shape)\n",
        "x=model.output"
      ],
      "execution_count": null,
      "outputs": [
        {
          "output_type": "stream",
          "text": [
            "WARNING:tensorflow:`input_shape` is undefined or non-square, or `rows` is not in [128, 160, 192, 224]. Weights for input shape (224, 224) will be loaded as the default.\n",
            "Downloading data from https://storage.googleapis.com/tensorflow/keras-applications/mobilenet/mobilenet_1_0_224_tf_no_top.h5\n",
            "17227776/17225924 [==============================] - 0s 0us/step\n"
          ],
          "name": "stdout"
        }
      ]
    },
    {
      "cell_type": "code",
      "metadata": {
        "id": "N-9P_g-kaXCs",
        "colab_type": "code",
        "colab": {}
      },
      "source": [
        "x=GlobalAveragePooling2D()(x)"
      ],
      "execution_count": null,
      "outputs": []
    },
    {
      "cell_type": "code",
      "metadata": {
        "id": "9g645TnCapYE",
        "colab_type": "code",
        "colab": {}
      },
      "source": [
        "x=Flatten()(x)"
      ],
      "execution_count": null,
      "outputs": []
    },
    {
      "cell_type": "code",
      "metadata": {
        "id": "3a8m0GNyasIN",
        "colab_type": "code",
        "colab": {}
      },
      "source": [
        "x=Dense(1024,activation='relu')(x)\n",
        "x=Dropout(0.4)(x)\n",
        "x=Dense(128,activation='relu')(x)\n",
        "x=Dropout(0.2)(x)\n",
        "x=Dense(num_classes,activation='softmax')(x)"
      ],
      "execution_count": null,
      "outputs": []
    },
    {
      "cell_type": "code",
      "metadata": {
        "id": "cOhXrNdNbL2a",
        "colab_type": "code",
        "colab": {}
      },
      "source": [
        "model=Model(inputs=model.input,outputs=x)"
      ],
      "execution_count": null,
      "outputs": []
    },
    {
      "cell_type": "code",
      "metadata": {
        "id": "NIOHnXJvbTxE",
        "colab_type": "code",
        "colab": {}
      },
      "source": [
        "model.compile(optimizer='adam',loss='sparse_categorical_crossentropy',metrics=['accuracy'])"
      ],
      "execution_count": null,
      "outputs": []
    },
    {
      "cell_type": "code",
      "metadata": {
        "id": "zYejKBhxbdZl",
        "colab_type": "code",
        "colab": {
          "base_uri": "https://localhost:8080/",
          "height": 1000
        },
        "outputId": "b306c200-e7e8-499e-86c3-fae7a466b41e"
      },
      "source": [
        "model.fit(X_train,y_train,epochs=50,batch_size=32,validation_data=(X_test,y_test))"
      ],
      "execution_count": null,
      "outputs": [
        {
          "output_type": "stream",
          "text": [
            "Epoch 1/50\n",
            "1563/1563 [==============================] - 17s 11ms/step - loss: 1.2911 - accuracy: 0.5796 - val_loss: 0.9058 - val_accuracy: 0.7043\n",
            "Epoch 2/50\n",
            "1563/1563 [==============================] - 17s 11ms/step - loss: 0.9626 - accuracy: 0.7001 - val_loss: 0.9042 - val_accuracy: 0.7092\n",
            "Epoch 3/50\n",
            "1563/1563 [==============================] - 16s 11ms/step - loss: 0.8608 - accuracy: 0.7309 - val_loss: 0.8115 - val_accuracy: 0.7398\n",
            "Epoch 4/50\n",
            "1563/1563 [==============================] - 16s 10ms/step - loss: 0.7761 - accuracy: 0.7594 - val_loss: 0.7644 - val_accuracy: 0.7470\n",
            "Epoch 5/50\n",
            "1563/1563 [==============================] - 16s 10ms/step - loss: 0.7106 - accuracy: 0.7815 - val_loss: 0.6800 - val_accuracy: 0.7822\n",
            "Epoch 6/50\n",
            "1563/1563 [==============================] - 17s 11ms/step - loss: 0.6575 - accuracy: 0.7980 - val_loss: 0.6909 - val_accuracy: 0.7745\n",
            "Epoch 7/50\n",
            "1563/1563 [==============================] - 17s 11ms/step - loss: 0.6063 - accuracy: 0.8114 - val_loss: 0.6495 - val_accuracy: 0.7869\n",
            "Epoch 8/50\n",
            "1563/1563 [==============================] - 17s 11ms/step - loss: 0.5451 - accuracy: 0.8325 - val_loss: 0.6613 - val_accuracy: 0.7768\n",
            "Epoch 9/50\n",
            "1563/1563 [==============================] - 17s 11ms/step - loss: 0.5033 - accuracy: 0.8437 - val_loss: 0.6290 - val_accuracy: 0.7916\n",
            "Epoch 10/50\n",
            "1563/1563 [==============================] - 17s 11ms/step - loss: 0.4893 - accuracy: 0.8508 - val_loss: 0.6195 - val_accuracy: 0.8020\n",
            "Epoch 11/50\n",
            "1563/1563 [==============================] - 16s 10ms/step - loss: 0.4381 - accuracy: 0.8650 - val_loss: 0.6405 - val_accuracy: 0.7946\n",
            "Epoch 12/50\n",
            "1563/1563 [==============================] - 16s 11ms/step - loss: 0.4141 - accuracy: 0.8738 - val_loss: 0.6377 - val_accuracy: 0.7970\n",
            "Epoch 13/50\n",
            "1563/1563 [==============================] - 17s 11ms/step - loss: 0.3976 - accuracy: 0.8800 - val_loss: 0.5957 - val_accuracy: 0.8135\n",
            "Epoch 14/50\n",
            "1563/1563 [==============================] - 17s 11ms/step - loss: 0.3336 - accuracy: 0.8964 - val_loss: 0.5860 - val_accuracy: 0.8176\n",
            "Epoch 15/50\n",
            "1563/1563 [==============================] - 17s 11ms/step - loss: 0.3620 - accuracy: 0.8911 - val_loss: 0.5616 - val_accuracy: 0.8263\n",
            "Epoch 16/50\n",
            "1563/1563 [==============================] - 16s 10ms/step - loss: 0.3094 - accuracy: 0.9058 - val_loss: 0.5959 - val_accuracy: 0.8132\n",
            "Epoch 17/50\n",
            "1563/1563 [==============================] - 16s 10ms/step - loss: 0.3072 - accuracy: 0.9059 - val_loss: 0.5802 - val_accuracy: 0.8181\n",
            "Epoch 18/50\n",
            "1563/1563 [==============================] - 16s 10ms/step - loss: 0.2712 - accuracy: 0.9173 - val_loss: 0.7425 - val_accuracy: 0.7628\n",
            "Epoch 19/50\n",
            "1563/1563 [==============================] - 16s 10ms/step - loss: 0.3168 - accuracy: 0.9045 - val_loss: 0.6069 - val_accuracy: 0.8146\n",
            "Epoch 20/50\n",
            "1563/1563 [==============================] - 16s 11ms/step - loss: 0.2578 - accuracy: 0.9225 - val_loss: 0.6200 - val_accuracy: 0.8138\n",
            "Epoch 21/50\n",
            "1563/1563 [==============================] - 17s 11ms/step - loss: 0.2282 - accuracy: 0.9304 - val_loss: 0.6105 - val_accuracy: 0.8205\n",
            "Epoch 22/50\n",
            "1563/1563 [==============================] - 17s 11ms/step - loss: 0.2304 - accuracy: 0.9303 - val_loss: 0.6151 - val_accuracy: 0.8212\n",
            "Epoch 23/50\n",
            "1563/1563 [==============================] - 17s 11ms/step - loss: 0.2214 - accuracy: 0.9324 - val_loss: 0.5840 - val_accuracy: 0.8234\n",
            "Epoch 24/50\n",
            "1563/1563 [==============================] - 17s 11ms/step - loss: 0.2498 - accuracy: 0.9267 - val_loss: 0.6028 - val_accuracy: 0.8188\n",
            "Epoch 25/50\n",
            "1563/1563 [==============================] - 17s 11ms/step - loss: 0.2084 - accuracy: 0.9372 - val_loss: 0.5877 - val_accuracy: 0.8328\n",
            "Epoch 26/50\n",
            "1563/1563 [==============================] - 16s 10ms/step - loss: 0.1755 - accuracy: 0.9477 - val_loss: 0.6330 - val_accuracy: 0.8242\n",
            "Epoch 27/50\n",
            "1563/1563 [==============================] - 17s 11ms/step - loss: 0.1708 - accuracy: 0.9491 - val_loss: 0.6568 - val_accuracy: 0.8263\n",
            "Epoch 28/50\n",
            "1563/1563 [==============================] - 17s 11ms/step - loss: 0.1675 - accuracy: 0.9515 - val_loss: 0.6438 - val_accuracy: 0.8163\n",
            "Epoch 29/50\n",
            "1563/1563 [==============================] - 17s 11ms/step - loss: 0.1982 - accuracy: 0.9428 - val_loss: 0.6344 - val_accuracy: 0.8206\n",
            "Epoch 30/50\n",
            "1563/1563 [==============================] - 17s 11ms/step - loss: 0.1757 - accuracy: 0.9488 - val_loss: 0.6778 - val_accuracy: 0.8005\n",
            "Epoch 31/50\n",
            "1563/1563 [==============================] - 17s 11ms/step - loss: 0.1728 - accuracy: 0.9487 - val_loss: 0.6378 - val_accuracy: 0.8165\n",
            "Epoch 32/50\n",
            "1563/1563 [==============================] - 17s 11ms/step - loss: 0.1840 - accuracy: 0.9462 - val_loss: 0.6368 - val_accuracy: 0.8248\n",
            "Epoch 33/50\n",
            "1563/1563 [==============================] - 16s 10ms/step - loss: 0.1377 - accuracy: 0.9578 - val_loss: 0.6565 - val_accuracy: 0.8216\n",
            "Epoch 34/50\n",
            "1563/1563 [==============================] - 16s 10ms/step - loss: 0.1217 - accuracy: 0.9637 - val_loss: 0.6872 - val_accuracy: 0.8191\n",
            "Epoch 35/50\n",
            "1563/1563 [==============================] - 16s 10ms/step - loss: 0.1307 - accuracy: 0.9618 - val_loss: 0.6204 - val_accuracy: 0.8298\n",
            "Epoch 36/50\n",
            "1563/1563 [==============================] - 16s 11ms/step - loss: 0.1115 - accuracy: 0.9658 - val_loss: 0.6864 - val_accuracy: 0.8236\n",
            "Epoch 37/50\n",
            "1563/1563 [==============================] - 16s 11ms/step - loss: 0.1669 - accuracy: 0.9520 - val_loss: 0.7008 - val_accuracy: 0.8053\n",
            "Epoch 38/50\n",
            "1563/1563 [==============================] - 17s 11ms/step - loss: 0.1527 - accuracy: 0.9563 - val_loss: 0.6524 - val_accuracy: 0.8207\n",
            "Epoch 39/50\n",
            "1563/1563 [==============================] - 17s 11ms/step - loss: 0.1256 - accuracy: 0.9639 - val_loss: 0.7037 - val_accuracy: 0.8152\n",
            "Epoch 40/50\n",
            "1563/1563 [==============================] - 17s 11ms/step - loss: 0.1184 - accuracy: 0.9653 - val_loss: 0.6850 - val_accuracy: 0.8269\n",
            "Epoch 41/50\n",
            "1563/1563 [==============================] - 17s 11ms/step - loss: 0.1129 - accuracy: 0.9669 - val_loss: 0.7011 - val_accuracy: 0.8179\n",
            "Epoch 42/50\n",
            "1563/1563 [==============================] - 17s 11ms/step - loss: 0.1165 - accuracy: 0.9660 - val_loss: 0.7136 - val_accuracy: 0.8253\n",
            "Epoch 43/50\n",
            "1563/1563 [==============================] - 17s 11ms/step - loss: 0.1144 - accuracy: 0.9663 - val_loss: 0.6936 - val_accuracy: 0.8142\n",
            "Epoch 44/50\n",
            "1563/1563 [==============================] - 17s 11ms/step - loss: 0.1419 - accuracy: 0.9585 - val_loss: 0.7165 - val_accuracy: 0.8214\n",
            "Epoch 45/50\n",
            "1563/1563 [==============================] - 16s 10ms/step - loss: 0.1467 - accuracy: 0.9578 - val_loss: 0.7090 - val_accuracy: 0.8213\n",
            "Epoch 46/50\n",
            "1563/1563 [==============================] - 16s 10ms/step - loss: 0.1103 - accuracy: 0.9690 - val_loss: 0.6538 - val_accuracy: 0.8310\n",
            "Epoch 47/50\n",
            "1563/1563 [==============================] - 16s 10ms/step - loss: 0.1130 - accuracy: 0.9685 - val_loss: 0.7789 - val_accuracy: 0.8019\n",
            "Epoch 48/50\n",
            "1563/1563 [==============================] - 16s 10ms/step - loss: 0.1192 - accuracy: 0.9662 - val_loss: 0.7846 - val_accuracy: 0.7923\n",
            "Epoch 49/50\n",
            "1563/1563 [==============================] - 16s 11ms/step - loss: 0.1190 - accuracy: 0.9664 - val_loss: 0.8014 - val_accuracy: 0.7838\n",
            "Epoch 50/50\n",
            "1563/1563 [==============================] - 16s 10ms/step - loss: 0.0952 - accuracy: 0.9723 - val_loss: 0.7753 - val_accuracy: 0.8175\n"
          ],
          "name": "stdout"
        },
        {
          "output_type": "execute_result",
          "data": {
            "text/plain": [
              "<tensorflow.python.keras.callbacks.History at 0x7fc64e1576a0>"
            ]
          },
          "metadata": {
            "tags": []
          },
          "execution_count": 13
        }
      ]
    },
    {
      "cell_type": "code",
      "metadata": {
        "id": "kqTErWXIbo37",
        "colab_type": "code",
        "colab": {
          "base_uri": "https://localhost:8080/",
          "height": 1000
        },
        "outputId": "19eedf7d-91f6-450a-fae2-fff078295197"
      },
      "source": [
        "model.summary()"
      ],
      "execution_count": null,
      "outputs": [
        {
          "output_type": "stream",
          "text": [
            "Model: \"functional_1\"\n",
            "_________________________________________________________________\n",
            "Layer (type)                 Output Shape              Param #   \n",
            "=================================================================\n",
            "input_1 (InputLayer)         [(None, 32, 32, 3)]       0         \n",
            "_________________________________________________________________\n",
            "conv1_pad (ZeroPadding2D)    (None, 33, 33, 3)         0         \n",
            "_________________________________________________________________\n",
            "conv1 (Conv2D)               (None, 16, 16, 32)        864       \n",
            "_________________________________________________________________\n",
            "conv1_bn (BatchNormalization (None, 16, 16, 32)        128       \n",
            "_________________________________________________________________\n",
            "conv1_relu (ReLU)            (None, 16, 16, 32)        0         \n",
            "_________________________________________________________________\n",
            "conv_dw_1 (DepthwiseConv2D)  (None, 16, 16, 32)        288       \n",
            "_________________________________________________________________\n",
            "conv_dw_1_bn (BatchNormaliza (None, 16, 16, 32)        128       \n",
            "_________________________________________________________________\n",
            "conv_dw_1_relu (ReLU)        (None, 16, 16, 32)        0         \n",
            "_________________________________________________________________\n",
            "conv_pw_1 (Conv2D)           (None, 16, 16, 64)        2048      \n",
            "_________________________________________________________________\n",
            "conv_pw_1_bn (BatchNormaliza (None, 16, 16, 64)        256       \n",
            "_________________________________________________________________\n",
            "conv_pw_1_relu (ReLU)        (None, 16, 16, 64)        0         \n",
            "_________________________________________________________________\n",
            "conv_pad_2 (ZeroPadding2D)   (None, 17, 17, 64)        0         \n",
            "_________________________________________________________________\n",
            "conv_dw_2 (DepthwiseConv2D)  (None, 8, 8, 64)          576       \n",
            "_________________________________________________________________\n",
            "conv_dw_2_bn (BatchNormaliza (None, 8, 8, 64)          256       \n",
            "_________________________________________________________________\n",
            "conv_dw_2_relu (ReLU)        (None, 8, 8, 64)          0         \n",
            "_________________________________________________________________\n",
            "conv_pw_2 (Conv2D)           (None, 8, 8, 128)         8192      \n",
            "_________________________________________________________________\n",
            "conv_pw_2_bn (BatchNormaliza (None, 8, 8, 128)         512       \n",
            "_________________________________________________________________\n",
            "conv_pw_2_relu (ReLU)        (None, 8, 8, 128)         0         \n",
            "_________________________________________________________________\n",
            "conv_dw_3 (DepthwiseConv2D)  (None, 8, 8, 128)         1152      \n",
            "_________________________________________________________________\n",
            "conv_dw_3_bn (BatchNormaliza (None, 8, 8, 128)         512       \n",
            "_________________________________________________________________\n",
            "conv_dw_3_relu (ReLU)        (None, 8, 8, 128)         0         \n",
            "_________________________________________________________________\n",
            "conv_pw_3 (Conv2D)           (None, 8, 8, 128)         16384     \n",
            "_________________________________________________________________\n",
            "conv_pw_3_bn (BatchNormaliza (None, 8, 8, 128)         512       \n",
            "_________________________________________________________________\n",
            "conv_pw_3_relu (ReLU)        (None, 8, 8, 128)         0         \n",
            "_________________________________________________________________\n",
            "conv_pad_4 (ZeroPadding2D)   (None, 9, 9, 128)         0         \n",
            "_________________________________________________________________\n",
            "conv_dw_4 (DepthwiseConv2D)  (None, 4, 4, 128)         1152      \n",
            "_________________________________________________________________\n",
            "conv_dw_4_bn (BatchNormaliza (None, 4, 4, 128)         512       \n",
            "_________________________________________________________________\n",
            "conv_dw_4_relu (ReLU)        (None, 4, 4, 128)         0         \n",
            "_________________________________________________________________\n",
            "conv_pw_4 (Conv2D)           (None, 4, 4, 256)         32768     \n",
            "_________________________________________________________________\n",
            "conv_pw_4_bn (BatchNormaliza (None, 4, 4, 256)         1024      \n",
            "_________________________________________________________________\n",
            "conv_pw_4_relu (ReLU)        (None, 4, 4, 256)         0         \n",
            "_________________________________________________________________\n",
            "conv_dw_5 (DepthwiseConv2D)  (None, 4, 4, 256)         2304      \n",
            "_________________________________________________________________\n",
            "conv_dw_5_bn (BatchNormaliza (None, 4, 4, 256)         1024      \n",
            "_________________________________________________________________\n",
            "conv_dw_5_relu (ReLU)        (None, 4, 4, 256)         0         \n",
            "_________________________________________________________________\n",
            "conv_pw_5 (Conv2D)           (None, 4, 4, 256)         65536     \n",
            "_________________________________________________________________\n",
            "conv_pw_5_bn (BatchNormaliza (None, 4, 4, 256)         1024      \n",
            "_________________________________________________________________\n",
            "conv_pw_5_relu (ReLU)        (None, 4, 4, 256)         0         \n",
            "_________________________________________________________________\n",
            "conv_pad_6 (ZeroPadding2D)   (None, 5, 5, 256)         0         \n",
            "_________________________________________________________________\n",
            "conv_dw_6 (DepthwiseConv2D)  (None, 2, 2, 256)         2304      \n",
            "_________________________________________________________________\n",
            "conv_dw_6_bn (BatchNormaliza (None, 2, 2, 256)         1024      \n",
            "_________________________________________________________________\n",
            "conv_dw_6_relu (ReLU)        (None, 2, 2, 256)         0         \n",
            "_________________________________________________________________\n",
            "conv_pw_6 (Conv2D)           (None, 2, 2, 512)         131072    \n",
            "_________________________________________________________________\n",
            "conv_pw_6_bn (BatchNormaliza (None, 2, 2, 512)         2048      \n",
            "_________________________________________________________________\n",
            "conv_pw_6_relu (ReLU)        (None, 2, 2, 512)         0         \n",
            "_________________________________________________________________\n",
            "conv_dw_7 (DepthwiseConv2D)  (None, 2, 2, 512)         4608      \n",
            "_________________________________________________________________\n",
            "conv_dw_7_bn (BatchNormaliza (None, 2, 2, 512)         2048      \n",
            "_________________________________________________________________\n",
            "conv_dw_7_relu (ReLU)        (None, 2, 2, 512)         0         \n",
            "_________________________________________________________________\n",
            "conv_pw_7 (Conv2D)           (None, 2, 2, 512)         262144    \n",
            "_________________________________________________________________\n",
            "conv_pw_7_bn (BatchNormaliza (None, 2, 2, 512)         2048      \n",
            "_________________________________________________________________\n",
            "conv_pw_7_relu (ReLU)        (None, 2, 2, 512)         0         \n",
            "_________________________________________________________________\n",
            "conv_dw_8 (DepthwiseConv2D)  (None, 2, 2, 512)         4608      \n",
            "_________________________________________________________________\n",
            "conv_dw_8_bn (BatchNormaliza (None, 2, 2, 512)         2048      \n",
            "_________________________________________________________________\n",
            "conv_dw_8_relu (ReLU)        (None, 2, 2, 512)         0         \n",
            "_________________________________________________________________\n",
            "conv_pw_8 (Conv2D)           (None, 2, 2, 512)         262144    \n",
            "_________________________________________________________________\n",
            "conv_pw_8_bn (BatchNormaliza (None, 2, 2, 512)         2048      \n",
            "_________________________________________________________________\n",
            "conv_pw_8_relu (ReLU)        (None, 2, 2, 512)         0         \n",
            "_________________________________________________________________\n",
            "conv_dw_9 (DepthwiseConv2D)  (None, 2, 2, 512)         4608      \n",
            "_________________________________________________________________\n",
            "conv_dw_9_bn (BatchNormaliza (None, 2, 2, 512)         2048      \n",
            "_________________________________________________________________\n",
            "conv_dw_9_relu (ReLU)        (None, 2, 2, 512)         0         \n",
            "_________________________________________________________________\n",
            "conv_pw_9 (Conv2D)           (None, 2, 2, 512)         262144    \n",
            "_________________________________________________________________\n",
            "conv_pw_9_bn (BatchNormaliza (None, 2, 2, 512)         2048      \n",
            "_________________________________________________________________\n",
            "conv_pw_9_relu (ReLU)        (None, 2, 2, 512)         0         \n",
            "_________________________________________________________________\n",
            "conv_dw_10 (DepthwiseConv2D) (None, 2, 2, 512)         4608      \n",
            "_________________________________________________________________\n",
            "conv_dw_10_bn (BatchNormaliz (None, 2, 2, 512)         2048      \n",
            "_________________________________________________________________\n",
            "conv_dw_10_relu (ReLU)       (None, 2, 2, 512)         0         \n",
            "_________________________________________________________________\n",
            "conv_pw_10 (Conv2D)          (None, 2, 2, 512)         262144    \n",
            "_________________________________________________________________\n",
            "conv_pw_10_bn (BatchNormaliz (None, 2, 2, 512)         2048      \n",
            "_________________________________________________________________\n",
            "conv_pw_10_relu (ReLU)       (None, 2, 2, 512)         0         \n",
            "_________________________________________________________________\n",
            "conv_dw_11 (DepthwiseConv2D) (None, 2, 2, 512)         4608      \n",
            "_________________________________________________________________\n",
            "conv_dw_11_bn (BatchNormaliz (None, 2, 2, 512)         2048      \n",
            "_________________________________________________________________\n",
            "conv_dw_11_relu (ReLU)       (None, 2, 2, 512)         0         \n",
            "_________________________________________________________________\n",
            "conv_pw_11 (Conv2D)          (None, 2, 2, 512)         262144    \n",
            "_________________________________________________________________\n",
            "conv_pw_11_bn (BatchNormaliz (None, 2, 2, 512)         2048      \n",
            "_________________________________________________________________\n",
            "conv_pw_11_relu (ReLU)       (None, 2, 2, 512)         0         \n",
            "_________________________________________________________________\n",
            "conv_pad_12 (ZeroPadding2D)  (None, 3, 3, 512)         0         \n",
            "_________________________________________________________________\n",
            "conv_dw_12 (DepthwiseConv2D) (None, 1, 1, 512)         4608      \n",
            "_________________________________________________________________\n",
            "conv_dw_12_bn (BatchNormaliz (None, 1, 1, 512)         2048      \n",
            "_________________________________________________________________\n",
            "conv_dw_12_relu (ReLU)       (None, 1, 1, 512)         0         \n",
            "_________________________________________________________________\n",
            "conv_pw_12 (Conv2D)          (None, 1, 1, 1024)        524288    \n",
            "_________________________________________________________________\n",
            "conv_pw_12_bn (BatchNormaliz (None, 1, 1, 1024)        4096      \n",
            "_________________________________________________________________\n",
            "conv_pw_12_relu (ReLU)       (None, 1, 1, 1024)        0         \n",
            "_________________________________________________________________\n",
            "conv_dw_13 (DepthwiseConv2D) (None, 1, 1, 1024)        9216      \n",
            "_________________________________________________________________\n",
            "conv_dw_13_bn (BatchNormaliz (None, 1, 1, 1024)        4096      \n",
            "_________________________________________________________________\n",
            "conv_dw_13_relu (ReLU)       (None, 1, 1, 1024)        0         \n",
            "_________________________________________________________________\n",
            "conv_pw_13 (Conv2D)          (None, 1, 1, 1024)        1048576   \n",
            "_________________________________________________________________\n",
            "conv_pw_13_bn (BatchNormaliz (None, 1, 1, 1024)        4096      \n",
            "_________________________________________________________________\n",
            "conv_pw_13_relu (ReLU)       (None, 1, 1, 1024)        0         \n",
            "_________________________________________________________________\n",
            "global_average_pooling2d (Gl (None, 1024)              0         \n",
            "_________________________________________________________________\n",
            "flatten (Flatten)            (None, 1024)              0         \n",
            "_________________________________________________________________\n",
            "dense (Dense)                (None, 1024)              1049600   \n",
            "_________________________________________________________________\n",
            "dropout (Dropout)            (None, 1024)              0         \n",
            "_________________________________________________________________\n",
            "dense_1 (Dense)              (None, 128)               131200    \n",
            "_________________________________________________________________\n",
            "dropout_1 (Dropout)          (None, 128)               0         \n",
            "_________________________________________________________________\n",
            "dense_2 (Dense)              (None, 10)                1290      \n",
            "=================================================================\n",
            "Total params: 4,410,954\n",
            "Trainable params: 4,389,066\n",
            "Non-trainable params: 21,888\n",
            "_________________________________________________________________\n"
          ],
          "name": "stdout"
        }
      ]
    },
    {
      "cell_type": "code",
      "metadata": {
        "id": "Zgt2T-BIpN_G",
        "colab_type": "code",
        "colab": {}
      },
      "source": [
        ""
      ],
      "execution_count": null,
      "outputs": []
    }
  ]
}