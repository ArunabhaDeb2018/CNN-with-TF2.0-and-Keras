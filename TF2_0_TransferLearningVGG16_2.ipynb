{
  "nbformat": 4,
  "nbformat_minor": 0,
  "metadata": {
    "colab": {
      "name": "TF2.0-TransferLearningVGG16_2.ipynb",
      "provenance": [],
      "authorship_tag": "ABX9TyO/yWujVSimKpjslyC6sAIQ",
      "include_colab_link": true
    },
    "kernelspec": {
      "name": "python3",
      "display_name": "Python 3"
    },
    "accelerator": "GPU"
  },
  "cells": [
    {
      "cell_type": "markdown",
      "metadata": {
        "id": "view-in-github",
        "colab_type": "text"
      },
      "source": [
        "<a href=\"https://colab.research.google.com/github/ArunabhaDeb2018/DeepLearning_CNN/blob/master/TF2_0_TransferLearningVGG16_2.ipynb\" target=\"_parent\"><img src=\"https://colab.research.google.com/assets/colab-badge.svg\" alt=\"Open In Colab\"/></a>"
      ]
    },
    {
      "cell_type": "markdown",
      "metadata": {
        "id": "jE94l-_q22sU",
        "colab_type": "text"
      },
      "source": [
        "**Transfer Learning-2 with VGG16:- **Cifar-10 is taken as dataset.\n",
        "Freez all Conv blocks\n",
        "end to end training after freezing the conv layers of vgg16\n",
        "https://nbviewer.jupyter.org/github/fchollet/deep-learning-with-python-notebooks/blob/master/5.3-using-a-pretrained-convnet.ipynb\n",
        "\n"
      ]
    },
    {
      "cell_type": "code",
      "metadata": {
        "id": "8QKP9Tgr2nCB",
        "colab_type": "code",
        "colab": {}
      },
      "source": [
        "import tensorflow as tf\n",
        "from tensorflow.keras.layers import Dense,Flatten,MaxPool2D,Activation,BatchNormalization,Dropout,Input,Conv2D\n",
        "from tensorflow.keras.models import Model\n",
        "from tensorflow.keras.applications.vgg16 import  VGG16,preprocess_input"
      ],
      "execution_count": null,
      "outputs": []
    },
    {
      "cell_type": "code",
      "metadata": {
        "id": "r7Shp1C124uP",
        "colab_type": "code",
        "colab": {}
      },
      "source": [
        "from tensorflow.keras.datasets import cifar10"
      ],
      "execution_count": null,
      "outputs": []
    },
    {
      "cell_type": "code",
      "metadata": {
        "id": "wYCMqm6C28Qe",
        "colab_type": "code",
        "colab": {}
      },
      "source": [
        "import numpy as np\n",
        "import matplotlib.pyplot as plt\n"
      ],
      "execution_count": null,
      "outputs": []
    },
    {
      "cell_type": "code",
      "metadata": {
        "id": "y649YcWG2-Nu",
        "colab_type": "code",
        "colab": {}
      },
      "source": [
        "(X_train,y_train),(X_test,y_test)=cifar10.load_data()"
      ],
      "execution_count": null,
      "outputs": []
    },
    {
      "cell_type": "code",
      "metadata": {
        "id": "awvw48Hy3BRL",
        "colab_type": "code",
        "colab": {}
      },
      "source": [
        "X_train_vgg16,X_test_vgg16=preprocess_input(X_train),preprocess_input(X_test);"
      ],
      "execution_count": null,
      "outputs": []
    },
    {
      "cell_type": "code",
      "metadata": {
        "id": "6-acPdUG3Fu0",
        "colab_type": "code",
        "colab": {}
      },
      "source": [
        "K=len(set(y_train[:,0]))#Number of classes"
      ],
      "execution_count": null,
      "outputs": []
    },
    {
      "cell_type": "code",
      "metadata": {
        "id": "FDDG7sz53J-9",
        "colab_type": "code",
        "colab": {}
      },
      "source": [
        "conv_layers_vgg16=VGG16(weights='imagenet', input_shape=X_train_vgg16[0].shape,include_top=False)#Will not inlcude any FC layers,only CONV blocks"
      ],
      "execution_count": null,
      "outputs": []
    },
    {
      "cell_type": "code",
      "metadata": {
        "id": "hLWYUKEp3Xh5",
        "colab_type": "code",
        "colab": {
          "base_uri": "https://localhost:8080/",
          "height": 799
        },
        "outputId": "e03615c7-edb3-41f7-f467-35f6979a776f"
      },
      "source": [
        "conv_layers_vgg16.summary()"
      ],
      "execution_count": null,
      "outputs": [
        {
          "output_type": "stream",
          "text": [
            "Model: \"vgg16\"\n",
            "_________________________________________________________________\n",
            "Layer (type)                 Output Shape              Param #   \n",
            "=================================================================\n",
            "input_1 (InputLayer)         [(None, 32, 32, 3)]       0         \n",
            "_________________________________________________________________\n",
            "block1_conv1 (Conv2D)        (None, 32, 32, 64)        1792      \n",
            "_________________________________________________________________\n",
            "block1_conv2 (Conv2D)        (None, 32, 32, 64)        36928     \n",
            "_________________________________________________________________\n",
            "block1_pool (MaxPooling2D)   (None, 16, 16, 64)        0         \n",
            "_________________________________________________________________\n",
            "block2_conv1 (Conv2D)        (None, 16, 16, 128)       73856     \n",
            "_________________________________________________________________\n",
            "block2_conv2 (Conv2D)        (None, 16, 16, 128)       147584    \n",
            "_________________________________________________________________\n",
            "block2_pool (MaxPooling2D)   (None, 8, 8, 128)         0         \n",
            "_________________________________________________________________\n",
            "block3_conv1 (Conv2D)        (None, 8, 8, 256)         295168    \n",
            "_________________________________________________________________\n",
            "block3_conv2 (Conv2D)        (None, 8, 8, 256)         590080    \n",
            "_________________________________________________________________\n",
            "block3_conv3 (Conv2D)        (None, 8, 8, 256)         590080    \n",
            "_________________________________________________________________\n",
            "block3_pool (MaxPooling2D)   (None, 4, 4, 256)         0         \n",
            "_________________________________________________________________\n",
            "block4_conv1 (Conv2D)        (None, 4, 4, 512)         1180160   \n",
            "_________________________________________________________________\n",
            "block4_conv2 (Conv2D)        (None, 4, 4, 512)         2359808   \n",
            "_________________________________________________________________\n",
            "block4_conv3 (Conv2D)        (None, 4, 4, 512)         2359808   \n",
            "_________________________________________________________________\n",
            "block4_pool (MaxPooling2D)   (None, 2, 2, 512)         0         \n",
            "_________________________________________________________________\n",
            "block5_conv1 (Conv2D)        (None, 2, 2, 512)         2359808   \n",
            "_________________________________________________________________\n",
            "block5_conv2 (Conv2D)        (None, 2, 2, 512)         2359808   \n",
            "_________________________________________________________________\n",
            "block5_conv3 (Conv2D)        (None, 2, 2, 512)         2359808   \n",
            "_________________________________________________________________\n",
            "block5_pool (MaxPooling2D)   (None, 1, 1, 512)         0         \n",
            "=================================================================\n",
            "Total params: 14,714,688\n",
            "Trainable params: 14,714,688\n",
            "Non-trainable params: 0\n",
            "_________________________________________________________________\n"
          ],
          "name": "stdout"
        }
      ]
    },
    {
      "cell_type": "code",
      "metadata": {
        "id": "-nY-wXwt3aNK",
        "colab_type": "code",
        "colab": {}
      },
      "source": [
        "vgg16_whole_net=VGG16()"
      ],
      "execution_count": null,
      "outputs": []
    },
    {
      "cell_type": "code",
      "metadata": {
        "id": "uwjmq_S53k-M",
        "colab_type": "code",
        "colab": {}
      },
      "source": [
        "#vgg16_whole_net.summary()"
      ],
      "execution_count": null,
      "outputs": []
    },
    {
      "cell_type": "code",
      "metadata": {
        "id": "dKJnChFP4UcR",
        "colab_type": "code",
        "colab": {}
      },
      "source": [
        ""
      ],
      "execution_count": null,
      "outputs": []
    },
    {
      "cell_type": "code",
      "metadata": {
        "id": "8XGTGhWi5rCg",
        "colab_type": "code",
        "colab": {}
      },
      "source": [
        "x=conv_layers_vgg16.output"
      ],
      "execution_count": null,
      "outputs": []
    },
    {
      "cell_type": "code",
      "metadata": {
        "id": "ryu7rY0wJEbx",
        "colab_type": "code",
        "colab": {}
      },
      "source": [
        "x=Flatten()(x)"
      ],
      "execution_count": null,
      "outputs": []
    },
    {
      "cell_type": "code",
      "metadata": {
        "id": "-eW19xFv5xzl",
        "colab_type": "code",
        "colab": {}
      },
      "source": [
        "x=Dense(1024,activation='relu')(x)\n",
        "x=Dropout(0.5)(x)"
      ],
      "execution_count": null,
      "outputs": []
    },
    {
      "cell_type": "code",
      "metadata": {
        "id": "EwV2muta7IM8",
        "colab_type": "code",
        "colab": {}
      },
      "source": [
        "x=Dense(128,activation='relu')(x)\n",
        "x=Dropout(0.2)(x)"
      ],
      "execution_count": null,
      "outputs": []
    },
    {
      "cell_type": "code",
      "metadata": {
        "id": "EvT9HC857LP8",
        "colab_type": "code",
        "colab": {}
      },
      "source": [
        "x=Dense(K,activation='softmax')(x)"
      ],
      "execution_count": null,
      "outputs": []
    },
    {
      "cell_type": "code",
      "metadata": {
        "id": "dkc8_RRO7NLr",
        "colab_type": "code",
        "colab": {}
      },
      "source": [
        "model=Model(inputs=conv_layers_vgg16.input,outputs=x)"
      ],
      "execution_count": null,
      "outputs": []
    },
    {
      "cell_type": "code",
      "metadata": {
        "id": "6O5CyeiO7Xu8",
        "colab_type": "code",
        "colab": {
          "base_uri": "https://localhost:8080/",
          "height": 34
        },
        "outputId": "cbd736b0-acdd-4f87-8ab7-9278394dfa78"
      },
      "source": [
        "print('Number of trainable weights before frezing vgg16 conv layers=',len(model.trainable_weights))"
      ],
      "execution_count": null,
      "outputs": [
        {
          "output_type": "stream",
          "text": [
            "Number of trainable weights before frezing vgg16 conv layers= 32\n"
          ],
          "name": "stdout"
        }
      ]
    },
    {
      "cell_type": "code",
      "metadata": {
        "id": "U9_6RHuK71PL",
        "colab_type": "code",
        "colab": {}
      },
      "source": [
        "conv_layers_vgg16.trainable=False #Need to freeze the conv layers weights of vgg16 as we do not want to update them"
      ],
      "execution_count": null,
      "outputs": []
    },
    {
      "cell_type": "code",
      "metadata": {
        "id": "T-QsELVB8SIe",
        "colab_type": "code",
        "colab": {
          "base_uri": "https://localhost:8080/",
          "height": 34
        },
        "outputId": "75e7a022-5e2f-423f-d101-db7bd29be4bd"
      },
      "source": [
        "print('Number of trainable weights after frezing vgg16 conv layers=',len(model.trainable_weights))"
      ],
      "execution_count": null,
      "outputs": [
        {
          "output_type": "stream",
          "text": [
            "Number of trainable weights after frezing vgg16 conv layers= 6\n"
          ],
          "name": "stdout"
        }
      ]
    },
    {
      "cell_type": "code",
      "metadata": {
        "id": "a88tlA4L_Oo4",
        "colab_type": "code",
        "colab": {}
      },
      "source": [
        "model.compile(optimizer='adam',loss='sparse_categorical_crossentropy',metrics=['accuracy'])"
      ],
      "execution_count": null,
      "outputs": []
    },
    {
      "cell_type": "code",
      "metadata": {
        "id": "MnWrUKRq_UsG",
        "colab_type": "code",
        "colab": {
          "base_uri": "https://localhost:8080/",
          "height": 1000
        },
        "outputId": "b4d0cf4e-63dc-4ca9-c810-268999f3595f"
      },
      "source": [
        "model.fit(X_train_vgg16,y_train,epochs=50,batch_size=32,validation_data=(X_test_vgg16,y_test))"
      ],
      "execution_count": null,
      "outputs": [
        {
          "output_type": "stream",
          "text": [
            "Epoch 1/50\n",
            "1563/1563 [==============================] - 13s 8ms/step - loss: 1.6889 - accuracy: 0.4622 - val_loss: 1.1661 - val_accuracy: 0.6073\n",
            "Epoch 2/50\n",
            "1563/1563 [==============================] - 12s 8ms/step - loss: 1.2496 - accuracy: 0.5745 - val_loss: 1.1064 - val_accuracy: 0.6296\n",
            "Epoch 3/50\n",
            "1563/1563 [==============================] - 12s 8ms/step - loss: 1.1582 - accuracy: 0.6078 - val_loss: 1.0345 - val_accuracy: 0.6529\n",
            "Epoch 4/50\n",
            "1563/1563 [==============================] - 12s 8ms/step - loss: 1.1100 - accuracy: 0.6219 - val_loss: 1.0384 - val_accuracy: 0.6456\n",
            "Epoch 5/50\n",
            "1563/1563 [==============================] - 12s 8ms/step - loss: 1.0731 - accuracy: 0.6393 - val_loss: 1.0121 - val_accuracy: 0.6571\n",
            "Epoch 6/50\n",
            "1563/1563 [==============================] - 12s 8ms/step - loss: 1.0335 - accuracy: 0.6491 - val_loss: 0.9898 - val_accuracy: 0.6635\n",
            "Epoch 7/50\n",
            "1563/1563 [==============================] - 12s 8ms/step - loss: 1.0104 - accuracy: 0.6569 - val_loss: 0.9958 - val_accuracy: 0.6612\n",
            "Epoch 8/50\n",
            "1563/1563 [==============================] - 12s 8ms/step - loss: 0.9756 - accuracy: 0.6675 - val_loss: 0.9742 - val_accuracy: 0.6746\n",
            "Epoch 9/50\n",
            "1563/1563 [==============================] - 12s 8ms/step - loss: 0.9493 - accuracy: 0.6790 - val_loss: 1.0026 - val_accuracy: 0.6703\n",
            "Epoch 10/50\n",
            "1563/1563 [==============================] - 12s 8ms/step - loss: 0.9145 - accuracy: 0.6885 - val_loss: 0.9891 - val_accuracy: 0.6680\n",
            "Epoch 11/50\n",
            "1563/1563 [==============================] - 12s 8ms/step - loss: 0.8960 - accuracy: 0.6961 - val_loss: 0.9732 - val_accuracy: 0.6794\n",
            "Epoch 12/50\n",
            "1563/1563 [==============================] - 12s 8ms/step - loss: 0.8630 - accuracy: 0.7064 - val_loss: 0.9992 - val_accuracy: 0.6793\n",
            "Epoch 13/50\n",
            "1563/1563 [==============================] - 12s 8ms/step - loss: 0.8458 - accuracy: 0.7122 - val_loss: 0.9824 - val_accuracy: 0.6811\n",
            "Epoch 14/50\n",
            "1563/1563 [==============================] - 12s 8ms/step - loss: 0.8263 - accuracy: 0.7205 - val_loss: 0.9902 - val_accuracy: 0.6769\n",
            "Epoch 15/50\n",
            "1563/1563 [==============================] - 12s 8ms/step - loss: 0.7966 - accuracy: 0.7303 - val_loss: 0.9967 - val_accuracy: 0.6865\n",
            "Epoch 16/50\n",
            "1563/1563 [==============================] - 12s 8ms/step - loss: 0.7815 - accuracy: 0.7338 - val_loss: 1.0056 - val_accuracy: 0.6803\n",
            "Epoch 17/50\n",
            "1563/1563 [==============================] - 12s 8ms/step - loss: 0.7618 - accuracy: 0.7415 - val_loss: 1.0159 - val_accuracy: 0.6869\n",
            "Epoch 18/50\n",
            "1563/1563 [==============================] - 12s 8ms/step - loss: 0.7445 - accuracy: 0.7457 - val_loss: 1.0077 - val_accuracy: 0.6827\n",
            "Epoch 19/50\n",
            "1563/1563 [==============================] - 12s 8ms/step - loss: 0.7216 - accuracy: 0.7520 - val_loss: 1.0639 - val_accuracy: 0.6776\n",
            "Epoch 20/50\n",
            "1563/1563 [==============================] - 12s 8ms/step - loss: 0.7069 - accuracy: 0.7589 - val_loss: 1.0296 - val_accuracy: 0.6904\n",
            "Epoch 21/50\n",
            "1563/1563 [==============================] - 12s 8ms/step - loss: 0.6943 - accuracy: 0.7650 - val_loss: 1.0455 - val_accuracy: 0.6886\n",
            "Epoch 22/50\n",
            "1563/1563 [==============================] - 12s 8ms/step - loss: 0.6719 - accuracy: 0.7728 - val_loss: 1.0659 - val_accuracy: 0.6858\n",
            "Epoch 23/50\n",
            "1563/1563 [==============================] - 12s 8ms/step - loss: 0.6508 - accuracy: 0.7802 - val_loss: 1.0987 - val_accuracy: 0.6804\n",
            "Epoch 24/50\n",
            "1563/1563 [==============================] - 13s 8ms/step - loss: 0.6401 - accuracy: 0.7848 - val_loss: 1.0976 - val_accuracy: 0.6929\n",
            "Epoch 25/50\n",
            "1563/1563 [==============================] - 12s 8ms/step - loss: 0.6328 - accuracy: 0.7869 - val_loss: 1.1013 - val_accuracy: 0.6918\n",
            "Epoch 26/50\n",
            "1563/1563 [==============================] - 12s 8ms/step - loss: 0.6190 - accuracy: 0.7925 - val_loss: 1.1302 - val_accuracy: 0.6949\n",
            "Epoch 27/50\n",
            "1563/1563 [==============================] - 12s 8ms/step - loss: 0.6011 - accuracy: 0.7965 - val_loss: 1.1050 - val_accuracy: 0.6881\n",
            "Epoch 28/50\n",
            "1563/1563 [==============================] - 12s 8ms/step - loss: 0.5924 - accuracy: 0.8003 - val_loss: 1.1671 - val_accuracy: 0.6867\n",
            "Epoch 29/50\n",
            "1563/1563 [==============================] - 12s 8ms/step - loss: 0.5754 - accuracy: 0.8048 - val_loss: 1.1526 - val_accuracy: 0.6845\n",
            "Epoch 30/50\n",
            "1563/1563 [==============================] - 12s 8ms/step - loss: 0.5728 - accuracy: 0.8101 - val_loss: 1.2141 - val_accuracy: 0.6834\n",
            "Epoch 31/50\n",
            "1563/1563 [==============================] - 12s 8ms/step - loss: 0.5643 - accuracy: 0.8117 - val_loss: 1.2064 - val_accuracy: 0.6924\n",
            "Epoch 32/50\n",
            "1563/1563 [==============================] - 12s 8ms/step - loss: 0.5547 - accuracy: 0.8154 - val_loss: 1.2264 - val_accuracy: 0.6902\n",
            "Epoch 33/50\n",
            "1563/1563 [==============================] - 12s 8ms/step - loss: 0.5397 - accuracy: 0.8205 - val_loss: 1.2215 - val_accuracy: 0.6867\n",
            "Epoch 34/50\n",
            "1563/1563 [==============================] - 12s 8ms/step - loss: 0.5358 - accuracy: 0.8231 - val_loss: 1.2654 - val_accuracy: 0.6820\n",
            "Epoch 35/50\n",
            "1563/1563 [==============================] - 12s 8ms/step - loss: 0.5224 - accuracy: 0.8266 - val_loss: 1.2655 - val_accuracy: 0.6849\n",
            "Epoch 36/50\n",
            "1563/1563 [==============================] - 12s 8ms/step - loss: 0.5221 - accuracy: 0.8283 - val_loss: 1.2413 - val_accuracy: 0.6889\n",
            "Epoch 37/50\n",
            "1563/1563 [==============================] - 12s 8ms/step - loss: 0.5055 - accuracy: 0.8328 - val_loss: 1.2494 - val_accuracy: 0.6796\n",
            "Epoch 38/50\n",
            "1563/1563 [==============================] - 12s 8ms/step - loss: 0.4952 - accuracy: 0.8366 - val_loss: 1.3094 - val_accuracy: 0.6889\n",
            "Epoch 39/50\n",
            "1563/1563 [==============================] - 12s 8ms/step - loss: 0.5034 - accuracy: 0.8351 - val_loss: 1.3152 - val_accuracy: 0.6862\n",
            "Epoch 40/50\n",
            "1563/1563 [==============================] - 12s 8ms/step - loss: 0.4879 - accuracy: 0.8411 - val_loss: 1.3277 - val_accuracy: 0.6850\n",
            "Epoch 41/50\n",
            "1563/1563 [==============================] - 12s 8ms/step - loss: 0.4762 - accuracy: 0.8445 - val_loss: 1.2910 - val_accuracy: 0.6879\n",
            "Epoch 42/50\n",
            "1563/1563 [==============================] - 12s 8ms/step - loss: 0.4656 - accuracy: 0.8473 - val_loss: 1.3329 - val_accuracy: 0.6858\n",
            "Epoch 43/50\n",
            "1563/1563 [==============================] - 12s 8ms/step - loss: 0.4624 - accuracy: 0.8507 - val_loss: 1.3363 - val_accuracy: 0.6892\n",
            "Epoch 44/50\n",
            "1563/1563 [==============================] - 12s 8ms/step - loss: 0.4539 - accuracy: 0.8528 - val_loss: 1.3863 - val_accuracy: 0.6846\n",
            "Epoch 45/50\n",
            "1563/1563 [==============================] - 12s 8ms/step - loss: 0.4518 - accuracy: 0.8541 - val_loss: 1.3723 - val_accuracy: 0.6864\n",
            "Epoch 46/50\n",
            "1563/1563 [==============================] - 12s 8ms/step - loss: 0.4473 - accuracy: 0.8548 - val_loss: 1.3705 - val_accuracy: 0.6859\n",
            "Epoch 47/50\n",
            "1563/1563 [==============================] - 12s 8ms/step - loss: 0.4438 - accuracy: 0.8587 - val_loss: 1.4224 - val_accuracy: 0.6886\n",
            "Epoch 48/50\n",
            "1563/1563 [==============================] - 12s 8ms/step - loss: 0.4343 - accuracy: 0.8609 - val_loss: 1.4338 - val_accuracy: 0.6907\n",
            "Epoch 49/50\n",
            "1563/1563 [==============================] - 13s 8ms/step - loss: 0.4337 - accuracy: 0.8633 - val_loss: 1.4636 - val_accuracy: 0.6909\n",
            "Epoch 50/50\n",
            "1563/1563 [==============================] - 12s 8ms/step - loss: 0.4245 - accuracy: 0.8636 - val_loss: 1.4476 - val_accuracy: 0.6910\n"
          ],
          "name": "stdout"
        },
        {
          "output_type": "execute_result",
          "data": {
            "text/plain": [
              "<tensorflow.python.keras.callbacks.History at 0x7fb3186687b8>"
            ]
          },
          "metadata": {
            "tags": []
          },
          "execution_count": 22
        }
      ]
    },
    {
      "cell_type": "code",
      "metadata": {
        "id": "4xPYNuup_W9s",
        "colab_type": "code",
        "colab": {
          "base_uri": "https://localhost:8080/",
          "height": 34
        },
        "outputId": "9e76c7d0-4d01-46c1-c2a8-0c4b7ae9d9e6"
      },
      "source": [
        "len(model.trainable_weights)"
      ],
      "execution_count": null,
      "outputs": [
        {
          "output_type": "execute_result",
          "data": {
            "text/plain": [
              "6"
            ]
          },
          "metadata": {
            "tags": []
          },
          "execution_count": 28
        }
      ]
    },
    {
      "cell_type": "code",
      "metadata": {
        "id": "dcXOda-dCWA0",
        "colab_type": "code",
        "colab": {
          "base_uri": "https://localhost:8080/",
          "height": 34
        },
        "outputId": "af47d251-73ae-42ee-d239-9faa214f0e12"
      },
      "source": [
        "len(vgg16_whole_net.trainable_variables)"
      ],
      "execution_count": null,
      "outputs": [
        {
          "output_type": "execute_result",
          "data": {
            "text/plain": [
              "32"
            ]
          },
          "metadata": {
            "tags": []
          },
          "execution_count": 50
        }
      ]
    },
    {
      "cell_type": "code",
      "metadata": {
        "id": "FacdQzOhGl01",
        "colab_type": "code",
        "colab": {}
      },
      "source": [
        "#model.summary()"
      ],
      "execution_count": null,
      "outputs": []
    },
    {
      "cell_type": "code",
      "metadata": {
        "id": "LYGF0hDqISgs",
        "colab_type": "code",
        "colab": {
          "base_uri": "https://localhost:8080/",
          "height": 282
        },
        "outputId": "d4363e41-c844-4e63-e1bd-103600a569a4"
      },
      "source": [
        "plt.plot(model.history.history['loss'],label='train_loss')\n",
        "plt.plot(model.history.history['val_loss'],label='val_loss')\n",
        "plt.legend()"
      ],
      "execution_count": null,
      "outputs": [
        {
          "output_type": "execute_result",
          "data": {
            "text/plain": [
              "<matplotlib.legend.Legend at 0x7fb31837cc50>"
            ]
          },
          "metadata": {
            "tags": []
          },
          "execution_count": 24
        },
        {
          "output_type": "display_data",
          "data": {
            "image/png": "[encoded data removed]",
            "text/plain": [
              "<Figure size 432x288 with 1 Axes>"
            ]
          },
          "metadata": {
            "tags": [],
            "needs_background": "light"
          }
        }
      ]
    },
    {
      "cell_type": "code",
      "metadata": {
        "id": "KbEysvOPL-qa",
        "colab_type": "code",
        "colab": {}
      },
      "source": [
        ""
      ],
      "execution_count": null,
      "outputs": []
    }
  ]
}