{
  "nbformat": 4,
  "nbformat_minor": 0,
  "metadata": {
    "colab": {
      "name": "TF2.0-MobileNetV1_FromScratch.ipynb",
      "provenance": [],
      "authorship_tag": "ABX9TyN5yAr4oRza/1lpQn87kp3R",
      "include_colab_link": true
    },
    "kernelspec": {
      "name": "python3",
      "display_name": "Python 3"
    },
    "accelerator": "GPU"
  },
  "cells": [
    {
      "cell_type": "markdown",
      "metadata": {
        "id": "view-in-github",
        "colab_type": "text"
      },
      "source": [
        "<a href=\"https://colab.research.google.com/github/ArunabhaDeb2018/DeepLearning_CNN/blob/master/TF2_0_MobileNetV1_FromScratch.ipynb\" target=\"_parent\"><img src=\"https://colab.research.google.com/assets/colab-badge.svg\" alt=\"Open In Colab\"/></a>"
      ]
    },
    {
      "cell_type": "code",
      "metadata": {
        "id": "GulZTg0Di9Ac",
        "colab_type": "code",
        "colab": {}
      },
      "source": [
        "import tensorflow as tf\n",
        "from tensorflow.keras.layers import Dense,Flatten,MaxPool2D,Activation,BatchNormalization,Dropout,Input,Conv2D,GlobalAveragePooling2D,DepthwiseConv2D\n",
        "from tensorflow.keras.models import Model\n",
        "from tensorflow.keras.datasets import cifar10"
      ],
      "execution_count": null,
      "outputs": []
    },
    {
      "cell_type": "code",
      "metadata": {
        "id": "lSL4nYWDjPam",
        "colab_type": "code",
        "colab": {}
      },
      "source": [
        "import numpy as np\n",
        "import matplotlib.pyplot as plt"
      ],
      "execution_count": null,
      "outputs": []
    },
    {
      "cell_type": "code",
      "metadata": {
        "id": "U6Pe-GQdjYFo",
        "colab_type": "code",
        "colab": {}
      },
      "source": [
        "(X_train,y_train),(X_test,y_test)=cifar10.load_data()"
      ],
      "execution_count": null,
      "outputs": []
    },
    {
      "cell_type": "code",
      "metadata": {
        "id": "XeSUucSZjrWC",
        "colab_type": "code",
        "colab": {}
      },
      "source": [
        "num_classes=len(set(y_train[:,0]))"
      ],
      "execution_count": null,
      "outputs": []
    },
    {
      "cell_type": "code",
      "metadata": {
        "id": "efn0iZ8kjvTh",
        "colab_type": "code",
        "colab": {}
      },
      "source": [
        "X_train,X_test=X_train/255.0,X_test/255.0"
      ],
      "execution_count": null,
      "outputs": []
    },
    {
      "cell_type": "code",
      "metadata": {
        "id": "08EdJEENj04u",
        "colab_type": "code",
        "colab": {}
      },
      "source": [
        "i=Input(shape=X_train[0].shape)"
      ],
      "execution_count": null,
      "outputs": []
    },
    {
      "cell_type": "code",
      "metadata": {
        "id": "vD7FlJhdj9iW",
        "colab_type": "code",
        "colab": {}
      },
      "source": [
        "def conv_block(input,no_filters,kernel_sz,stride,padding):\n",
        "  '''Conv2D->BatchNormalization->Relu'''\n",
        "  output=Conv2D(no_filters,kernel_size=kernel_sz,strides=stride,padding=padding)(input)\n",
        "  output=BatchNormalization()(output)\n",
        "  output=Activation('relu')(output)\n",
        "  return output"
      ],
      "execution_count": null,
      "outputs": []
    },
    {
      "cell_type": "code",
      "metadata": {
        "id": "8el276cUlM86",
        "colab_type": "code",
        "colab": {}
      },
      "source": [
        "def conv_block_depthwise(input,kernel_sz,stride,padding,multiplier,no_out_channels):\n",
        "  '''DepthwiseConv->BatchNormalization->Relu->Conv2D(1x1)->BatchNormalization->Relu\n",
        "  output number of channels of DepthwiseConv2D() depends upon multiplier\n",
        "  if multiplier==1 then no. of input channels is same as no. of output channels'''\n",
        "\n",
        "  output=DepthwiseConv2D(kernel_size=kernel_sz,strides=stride,padding=padding,depth_multiplier=multiplier)(input)\n",
        "  output=BatchNormalization()(output)\n",
        "  output=Activation('relu')(output) \n",
        "  \n",
        "  output=Conv2D(no_out_channels,kernel_size=(1,1),padding='same',strides=1)(output)\n",
        "  output=BatchNormalization()(output)\n",
        "  output=Activation('relu')(output)\n",
        "\n",
        "  return output"
      ],
      "execution_count": null,
      "outputs": []
    },
    {
      "cell_type": "code",
      "metadata": {
        "id": "e3r6NcwnoeOX",
        "colab_type": "code",
        "colab": {}
      },
      "source": [
        "def my_mobilenet_v1(input,num_classes):\n",
        "  x=conv_block(input,no_filters=32,kernel_sz=(3,3),stride=2,padding='same')\n",
        "\n",
        "  x=conv_block_depthwise(x,kernel_sz=(3,3),stride=1,padding='same',multiplier=1,no_out_channels=64)\n",
        "  x=conv_block_depthwise(x,kernel_sz=(3,3),stride=2,padding='same',multiplier=1,no_out_channels=128)\n",
        "  x=conv_block_depthwise(x,kernel_sz=(3,3),stride=1,padding='same',multiplier=1,no_out_channels=128)\n",
        "  x=conv_block_depthwise(x,kernel_sz=(3,3),stride=2,padding='same',multiplier=1,no_out_channels=256)\n",
        "  x=conv_block_depthwise(x,kernel_sz=(3,3),stride=1,padding='same',multiplier=1,no_out_channels=256)\n",
        "  x=conv_block_depthwise(x,kernel_sz=(3,3),stride=2,padding='same',multiplier=1,no_out_channels=512)\n",
        "\n",
        "  x=conv_block_depthwise(x,kernel_sz=(3,3),stride=1,padding='same',multiplier=1,no_out_channels=512)\n",
        "  x=conv_block_depthwise(x,kernel_sz=(3,3),stride=1,padding='same',multiplier=1,no_out_channels=512)\n",
        "  x=conv_block_depthwise(x,kernel_sz=(3,3),stride=1,padding='same',multiplier=1,no_out_channels=512)\n",
        "  x=conv_block_depthwise(x,kernel_sz=(3,3),stride=1,padding='same',multiplier=1,no_out_channels=512)\n",
        "  x=conv_block_depthwise(x,kernel_sz=(3,3),stride=1,padding='same',multiplier=1,no_out_channels=512)\n",
        "\n",
        "  x=conv_block_depthwise(x,kernel_sz=(3,3),stride=2,padding='same',multiplier=1,no_out_channels=1024)\n",
        "  x=conv_block_depthwise(x,kernel_sz=(3,3),stride=2,padding='same',multiplier=1,no_out_channels=1024)\n",
        "\n",
        "  x=GlobalAveragePooling2D()(x)\n",
        "  x=Dense(1024,activation='relu')(x)\n",
        "  output=Dense(num_classes,activation='softmax')(x)\n",
        "\n",
        "  return output\n",
        "\n",
        "\n",
        "\n"
      ],
      "execution_count": null,
      "outputs": []
    },
    {
      "cell_type": "code",
      "metadata": {
        "id": "RiHe60eewF96",
        "colab_type": "code",
        "colab": {}
      },
      "source": [
        "output=my_mobilenet_v1(input=i,num_classes=num_classes)"
      ],
      "execution_count": null,
      "outputs": []
    },
    {
      "cell_type": "code",
      "metadata": {
        "id": "msRtfWvxweMi",
        "colab_type": "code",
        "colab": {}
      },
      "source": [
        "model=Model(inputs=i,outputs=output)"
      ],
      "execution_count": null,
      "outputs": []
    },
    {
      "cell_type": "code",
      "metadata": {
        "id": "FdWhaZICxsp8",
        "colab_type": "code",
        "colab": {}
      },
      "source": [
        "model.compile(optimizer='adam',loss='sparse_categorical_crossentropy',metrics=['accuracy'])"
      ],
      "execution_count": null,
      "outputs": []
    },
    {
      "cell_type": "code",
      "metadata": {
        "id": "KX5rcHopySnr",
        "colab_type": "code",
        "colab": {
          "base_uri": "https://localhost:8080/",
          "height": 1000
        },
        "outputId": "efef350f-36de-4b10-9687-ac762fedfbe1"
      },
      "source": [
        "print(model.summary())"
      ],
      "execution_count": null,
      "outputs": [
        {
          "output_type": "stream",
          "text": [
            "Model: \"functional_3\"\n",
            "_________________________________________________________________\n",
            "Layer (type)                 Output Shape              Param #   \n",
            "=================================================================\n",
            "input_2 (InputLayer)         [(None, 32, 32, 3)]       0         \n",
            "_________________________________________________________________\n",
            "conv2d_14 (Conv2D)           (None, 16, 16, 32)        896       \n",
            "_________________________________________________________________\n",
            "batch_normalization_27 (Batc (None, 16, 16, 32)        128       \n",
            "_________________________________________________________________\n",
            "activation_27 (Activation)   (None, 16, 16, 32)        0         \n",
            "_________________________________________________________________\n",
            "depthwise_conv2d_13 (Depthwi (None, 16, 16, 32)        320       \n",
            "_________________________________________________________________\n",
            "batch_normalization_28 (Batc (None, 16, 16, 32)        128       \n",
            "_________________________________________________________________\n",
            "activation_28 (Activation)   (None, 16, 16, 32)        0         \n",
            "_________________________________________________________________\n",
            "conv2d_15 (Conv2D)           (None, 16, 16, 64)        2112      \n",
            "_________________________________________________________________\n",
            "batch_normalization_29 (Batc (None, 16, 16, 64)        256       \n",
            "_________________________________________________________________\n",
            "activation_29 (Activation)   (None, 16, 16, 64)        0         \n",
            "_________________________________________________________________\n",
            "depthwise_conv2d_14 (Depthwi (None, 8, 8, 64)          640       \n",
            "_________________________________________________________________\n",
            "batch_normalization_30 (Batc (None, 8, 8, 64)          256       \n",
            "_________________________________________________________________\n",
            "activation_30 (Activation)   (None, 8, 8, 64)          0         \n",
            "_________________________________________________________________\n",
            "conv2d_16 (Conv2D)           (None, 8, 8, 128)         8320      \n",
            "_________________________________________________________________\n",
            "batch_normalization_31 (Batc (None, 8, 8, 128)         512       \n",
            "_________________________________________________________________\n",
            "activation_31 (Activation)   (None, 8, 8, 128)         0         \n",
            "_________________________________________________________________\n",
            "depthwise_conv2d_15 (Depthwi (None, 8, 8, 128)         1280      \n",
            "_________________________________________________________________\n",
            "batch_normalization_32 (Batc (None, 8, 8, 128)         512       \n",
            "_________________________________________________________________\n",
            "activation_32 (Activation)   (None, 8, 8, 128)         0         \n",
            "_________________________________________________________________\n",
            "conv2d_17 (Conv2D)           (None, 8, 8, 128)         16512     \n",
            "_________________________________________________________________\n",
            "batch_normalization_33 (Batc (None, 8, 8, 128)         512       \n",
            "_________________________________________________________________\n",
            "activation_33 (Activation)   (None, 8, 8, 128)         0         \n",
            "_________________________________________________________________\n",
            "depthwise_conv2d_16 (Depthwi (None, 4, 4, 128)         1280      \n",
            "_________________________________________________________________\n",
            "batch_normalization_34 (Batc (None, 4, 4, 128)         512       \n",
            "_________________________________________________________________\n",
            "activation_34 (Activation)   (None, 4, 4, 128)         0         \n",
            "_________________________________________________________________\n",
            "conv2d_18 (Conv2D)           (None, 4, 4, 256)         33024     \n",
            "_________________________________________________________________\n",
            "batch_normalization_35 (Batc (None, 4, 4, 256)         1024      \n",
            "_________________________________________________________________\n",
            "activation_35 (Activation)   (None, 4, 4, 256)         0         \n",
            "_________________________________________________________________\n",
            "depthwise_conv2d_17 (Depthwi (None, 4, 4, 256)         2560      \n",
            "_________________________________________________________________\n",
            "batch_normalization_36 (Batc (None, 4, 4, 256)         1024      \n",
            "_________________________________________________________________\n",
            "activation_36 (Activation)   (None, 4, 4, 256)         0         \n",
            "_________________________________________________________________\n",
            "conv2d_19 (Conv2D)           (None, 4, 4, 256)         65792     \n",
            "_________________________________________________________________\n",
            "batch_normalization_37 (Batc (None, 4, 4, 256)         1024      \n",
            "_________________________________________________________________\n",
            "activation_37 (Activation)   (None, 4, 4, 256)         0         \n",
            "_________________________________________________________________\n",
            "depthwise_conv2d_18 (Depthwi (None, 2, 2, 256)         2560      \n",
            "_________________________________________________________________\n",
            "batch_normalization_38 (Batc (None, 2, 2, 256)         1024      \n",
            "_________________________________________________________________\n",
            "activation_38 (Activation)   (None, 2, 2, 256)         0         \n",
            "_________________________________________________________________\n",
            "conv2d_20 (Conv2D)           (None, 2, 2, 512)         131584    \n",
            "_________________________________________________________________\n",
            "batch_normalization_39 (Batc (None, 2, 2, 512)         2048      \n",
            "_________________________________________________________________\n",
            "activation_39 (Activation)   (None, 2, 2, 512)         0         \n",
            "_________________________________________________________________\n",
            "depthwise_conv2d_19 (Depthwi (None, 2, 2, 512)         5120      \n",
            "_________________________________________________________________\n",
            "batch_normalization_40 (Batc (None, 2, 2, 512)         2048      \n",
            "_________________________________________________________________\n",
            "activation_40 (Activation)   (None, 2, 2, 512)         0         \n",
            "_________________________________________________________________\n",
            "conv2d_21 (Conv2D)           (None, 2, 2, 512)         262656    \n",
            "_________________________________________________________________\n",
            "batch_normalization_41 (Batc (None, 2, 2, 512)         2048      \n",
            "_________________________________________________________________\n",
            "activation_41 (Activation)   (None, 2, 2, 512)         0         \n",
            "_________________________________________________________________\n",
            "depthwise_conv2d_20 (Depthwi (None, 2, 2, 512)         5120      \n",
            "_________________________________________________________________\n",
            "batch_normalization_42 (Batc (None, 2, 2, 512)         2048      \n",
            "_________________________________________________________________\n",
            "activation_42 (Activation)   (None, 2, 2, 512)         0         \n",
            "_________________________________________________________________\n",
            "conv2d_22 (Conv2D)           (None, 2, 2, 512)         262656    \n",
            "_________________________________________________________________\n",
            "batch_normalization_43 (Batc (None, 2, 2, 512)         2048      \n",
            "_________________________________________________________________\n",
            "activation_43 (Activation)   (None, 2, 2, 512)         0         \n",
            "_________________________________________________________________\n",
            "depthwise_conv2d_21 (Depthwi (None, 2, 2, 512)         5120      \n",
            "_________________________________________________________________\n",
            "batch_normalization_44 (Batc (None, 2, 2, 512)         2048      \n",
            "_________________________________________________________________\n",
            "activation_44 (Activation)   (None, 2, 2, 512)         0         \n",
            "_________________________________________________________________\n",
            "conv2d_23 (Conv2D)           (None, 2, 2, 512)         262656    \n",
            "_________________________________________________________________\n",
            "batch_normalization_45 (Batc (None, 2, 2, 512)         2048      \n",
            "_________________________________________________________________\n",
            "activation_45 (Activation)   (None, 2, 2, 512)         0         \n",
            "_________________________________________________________________\n",
            "depthwise_conv2d_22 (Depthwi (None, 2, 2, 512)         5120      \n",
            "_________________________________________________________________\n",
            "batch_normalization_46 (Batc (None, 2, 2, 512)         2048      \n",
            "_________________________________________________________________\n",
            "activation_46 (Activation)   (None, 2, 2, 512)         0         \n",
            "_________________________________________________________________\n",
            "conv2d_24 (Conv2D)           (None, 2, 2, 512)         262656    \n",
            "_________________________________________________________________\n",
            "batch_normalization_47 (Batc (None, 2, 2, 512)         2048      \n",
            "_________________________________________________________________\n",
            "activation_47 (Activation)   (None, 2, 2, 512)         0         \n",
            "_________________________________________________________________\n",
            "depthwise_conv2d_23 (Depthwi (None, 2, 2, 512)         5120      \n",
            "_________________________________________________________________\n",
            "batch_normalization_48 (Batc (None, 2, 2, 512)         2048      \n",
            "_________________________________________________________________\n",
            "activation_48 (Activation)   (None, 2, 2, 512)         0         \n",
            "_________________________________________________________________\n",
            "conv2d_25 (Conv2D)           (None, 2, 2, 512)         262656    \n",
            "_________________________________________________________________\n",
            "batch_normalization_49 (Batc (None, 2, 2, 512)         2048      \n",
            "_________________________________________________________________\n",
            "activation_49 (Activation)   (None, 2, 2, 512)         0         \n",
            "_________________________________________________________________\n",
            "depthwise_conv2d_24 (Depthwi (None, 1, 1, 512)         5120      \n",
            "_________________________________________________________________\n",
            "batch_normalization_50 (Batc (None, 1, 1, 512)         2048      \n",
            "_________________________________________________________________\n",
            "activation_50 (Activation)   (None, 1, 1, 512)         0         \n",
            "_________________________________________________________________\n",
            "conv2d_26 (Conv2D)           (None, 1, 1, 1024)        525312    \n",
            "_________________________________________________________________\n",
            "batch_normalization_51 (Batc (None, 1, 1, 1024)        4096      \n",
            "_________________________________________________________________\n",
            "activation_51 (Activation)   (None, 1, 1, 1024)        0         \n",
            "_________________________________________________________________\n",
            "depthwise_conv2d_25 (Depthwi (None, 1, 1, 1024)        10240     \n",
            "_________________________________________________________________\n",
            "batch_normalization_52 (Batc (None, 1, 1, 1024)        4096      \n",
            "_________________________________________________________________\n",
            "activation_52 (Activation)   (None, 1, 1, 1024)        0         \n",
            "_________________________________________________________________\n",
            "conv2d_27 (Conv2D)           (None, 1, 1, 1024)        1049600   \n",
            "_________________________________________________________________\n",
            "batch_normalization_53 (Batc (None, 1, 1, 1024)        4096      \n",
            "_________________________________________________________________\n",
            "activation_53 (Activation)   (None, 1, 1, 1024)        0         \n",
            "_________________________________________________________________\n",
            "global_average_pooling2d_1 ( (None, 1024)              0         \n",
            "_________________________________________________________________\n",
            "dense_2 (Dense)              (None, 1024)              1049600   \n",
            "_________________________________________________________________\n",
            "dense_3 (Dense)              (None, 10)                10250     \n",
            "=================================================================\n",
            "Total params: 4,299,658\n",
            "Trainable params: 4,277,770\n",
            "Non-trainable params: 21,888\n",
            "_________________________________________________________________\n",
            "None\n"
          ],
          "name": "stdout"
        }
      ]
    },
    {
      "cell_type": "code",
      "metadata": {
        "id": "5SztVeIUyWTH",
        "colab_type": "code",
        "colab": {
          "base_uri": "https://localhost:8080/",
          "height": 1000
        },
        "outputId": "8a3c0044-53b7-4dbf-8120-c80ca4861b44"
      },
      "source": [
        "model.fit(X_train,y_train,epochs=50,batch_size=32,validation_data=(X_test,y_test))"
      ],
      "execution_count": null,
      "outputs": [
        {
          "output_type": "stream",
          "text": [
            "Epoch 1/50\n",
            "1563/1563 [==============================] - 36s 23ms/step - loss: 1.8091 - accuracy: 0.3229 - val_loss: 1.8104 - val_accuracy: 0.3945\n",
            "Epoch 2/50\n",
            "1563/1563 [==============================] - 36s 23ms/step - loss: 1.4799 - accuracy: 0.4634 - val_loss: 1.7242 - val_accuracy: 0.4498\n",
            "Epoch 3/50\n",
            "1563/1563 [==============================] - 36s 23ms/step - loss: 1.3129 - accuracy: 0.5354 - val_loss: 1.5188 - val_accuracy: 0.5342\n",
            "Epoch 4/50\n",
            "1563/1563 [==============================] - 36s 23ms/step - loss: 1.1679 - accuracy: 0.5904 - val_loss: 1.2652 - val_accuracy: 0.5736\n",
            "Epoch 5/50\n",
            "1563/1563 [==============================] - 36s 23ms/step - loss: 1.0450 - accuracy: 0.6398 - val_loss: 1.1220 - val_accuracy: 0.6318\n",
            "Epoch 6/50\n",
            "1563/1563 [==============================] - 36s 23ms/step - loss: 0.9364 - accuracy: 0.6772 - val_loss: 1.0555 - val_accuracy: 0.6589\n",
            "Epoch 7/50\n",
            "1563/1563 [==============================] - 36s 23ms/step - loss: 0.8479 - accuracy: 0.7072 - val_loss: 0.9437 - val_accuracy: 0.6827\n",
            "Epoch 8/50\n",
            "1563/1563 [==============================] - 35s 23ms/step - loss: 0.7708 - accuracy: 0.7393 - val_loss: 1.0148 - val_accuracy: 0.6675\n",
            "Epoch 9/50\n",
            "1563/1563 [==============================] - 35s 23ms/step - loss: 0.7077 - accuracy: 0.7605 - val_loss: 0.8841 - val_accuracy: 0.7064\n",
            "Epoch 10/50\n",
            "1563/1563 [==============================] - 35s 23ms/step - loss: 0.6426 - accuracy: 0.7820 - val_loss: 0.8759 - val_accuracy: 0.7099\n",
            "Epoch 11/50\n",
            "1563/1563 [==============================] - 35s 23ms/step - loss: 0.5922 - accuracy: 0.7978 - val_loss: 0.8697 - val_accuracy: 0.7062\n",
            "Epoch 12/50\n",
            "1563/1563 [==============================] - 36s 23ms/step - loss: 0.5373 - accuracy: 0.8189 - val_loss: 0.8813 - val_accuracy: 0.7110\n",
            "Epoch 13/50\n",
            "1563/1563 [==============================] - 35s 23ms/step - loss: 0.5023 - accuracy: 0.8292 - val_loss: 0.8337 - val_accuracy: 0.7288\n",
            "Epoch 14/50\n",
            "1563/1563 [==============================] - 36s 23ms/step - loss: 0.4551 - accuracy: 0.8452 - val_loss: 0.8857 - val_accuracy: 0.7132\n",
            "Epoch 15/50\n",
            "1563/1563 [==============================] - 35s 23ms/step - loss: 0.4148 - accuracy: 0.8575 - val_loss: 0.7859 - val_accuracy: 0.7403\n",
            "Epoch 16/50\n",
            "1563/1563 [==============================] - 35s 23ms/step - loss: 0.3812 - accuracy: 0.8694 - val_loss: 0.8615 - val_accuracy: 0.7370\n",
            "Epoch 17/50\n",
            "1563/1563 [==============================] - 36s 23ms/step - loss: 0.3602 - accuracy: 0.8770 - val_loss: 0.9045 - val_accuracy: 0.7333\n",
            "Epoch 18/50\n",
            "1563/1563 [==============================] - 36s 23ms/step - loss: 0.3253 - accuracy: 0.8896 - val_loss: 0.8487 - val_accuracy: 0.7388\n",
            "Epoch 19/50\n",
            "1563/1563 [==============================] - 35s 23ms/step - loss: 0.3043 - accuracy: 0.8956 - val_loss: 0.9134 - val_accuracy: 0.7313\n",
            "Epoch 20/50\n",
            "1563/1563 [==============================] - 35s 23ms/step - loss: 0.2835 - accuracy: 0.9036 - val_loss: 0.8954 - val_accuracy: 0.7407\n",
            "Epoch 21/50\n",
            "1563/1563 [==============================] - 36s 23ms/step - loss: 0.2632 - accuracy: 0.9090 - val_loss: 0.8673 - val_accuracy: 0.7493\n",
            "Epoch 22/50\n",
            "1563/1563 [==============================] - 36s 23ms/step - loss: 0.2433 - accuracy: 0.9166 - val_loss: 0.9047 - val_accuracy: 0.7427\n",
            "Epoch 23/50\n",
            "1563/1563 [==============================] - 35s 23ms/step - loss: 0.2323 - accuracy: 0.9219 - val_loss: 0.8753 - val_accuracy: 0.7518\n",
            "Epoch 24/50\n",
            "1563/1563 [==============================] - 35s 23ms/step - loss: 0.2158 - accuracy: 0.9265 - val_loss: 0.9215 - val_accuracy: 0.7467\n",
            "Epoch 25/50\n",
            "1563/1563 [==============================] - 35s 23ms/step - loss: 0.2003 - accuracy: 0.9318 - val_loss: 0.9652 - val_accuracy: 0.7461\n",
            "Epoch 26/50\n",
            "1563/1563 [==============================] - 35s 23ms/step - loss: 0.1973 - accuracy: 0.9332 - val_loss: 0.9390 - val_accuracy: 0.7493\n",
            "Epoch 27/50\n",
            "1563/1563 [==============================] - 35s 23ms/step - loss: 0.1839 - accuracy: 0.9378 - val_loss: 0.9354 - val_accuracy: 0.7473\n",
            "Epoch 28/50\n",
            "1563/1563 [==============================] - 35s 23ms/step - loss: 0.1725 - accuracy: 0.9397 - val_loss: 1.0130 - val_accuracy: 0.7415\n",
            "Epoch 29/50\n",
            "1563/1563 [==============================] - 36s 23ms/step - loss: 0.1672 - accuracy: 0.9432 - val_loss: 0.9715 - val_accuracy: 0.7448\n",
            "Epoch 30/50\n",
            "1563/1563 [==============================] - 36s 23ms/step - loss: 0.1604 - accuracy: 0.9440 - val_loss: 0.9967 - val_accuracy: 0.7457\n",
            "Epoch 31/50\n",
            "1563/1563 [==============================] - 36s 23ms/step - loss: 0.1533 - accuracy: 0.9477 - val_loss: 0.9618 - val_accuracy: 0.7524\n",
            "Epoch 32/50\n",
            "1563/1563 [==============================] - 36s 23ms/step - loss: 0.1454 - accuracy: 0.9509 - val_loss: 0.9464 - val_accuracy: 0.7515\n",
            "Epoch 33/50\n",
            "1563/1563 [==============================] - 36s 23ms/step - loss: 0.1428 - accuracy: 0.9518 - val_loss: 0.9989 - val_accuracy: 0.7515\n",
            "Epoch 34/50\n",
            "1563/1563 [==============================] - 36s 23ms/step - loss: 0.1372 - accuracy: 0.9531 - val_loss: 0.9956 - val_accuracy: 0.7508\n",
            "Epoch 35/50\n",
            "1563/1563 [==============================] - 36s 23ms/step - loss: 0.1318 - accuracy: 0.9548 - val_loss: 0.9605 - val_accuracy: 0.7530\n",
            "Epoch 36/50\n",
            "1563/1563 [==============================] - 36s 23ms/step - loss: 0.1264 - accuracy: 0.9568 - val_loss: 0.9757 - val_accuracy: 0.7571\n",
            "Epoch 37/50\n",
            "1563/1563 [==============================] - 36s 23ms/step - loss: 0.1185 - accuracy: 0.9599 - val_loss: 1.0074 - val_accuracy: 0.7560\n",
            "Epoch 38/50\n",
            "1563/1563 [==============================] - 36s 23ms/step - loss: 0.1208 - accuracy: 0.9581 - val_loss: 1.0571 - val_accuracy: 0.7502\n",
            "Epoch 39/50\n",
            "1563/1563 [==============================] - 36s 23ms/step - loss: 0.1170 - accuracy: 0.9603 - val_loss: 0.9927 - val_accuracy: 0.7550\n",
            "Epoch 40/50\n",
            "1563/1563 [==============================] - 36s 23ms/step - loss: 0.1157 - accuracy: 0.9608 - val_loss: 1.0045 - val_accuracy: 0.7521\n",
            "Epoch 41/50\n",
            "1563/1563 [==============================] - 36s 23ms/step - loss: 0.1086 - accuracy: 0.9629 - val_loss: 0.9995 - val_accuracy: 0.7558\n",
            "Epoch 42/50\n",
            "1563/1563 [==============================] - 36s 23ms/step - loss: 0.1085 - accuracy: 0.9627 - val_loss: 1.0192 - val_accuracy: 0.7614\n",
            "Epoch 43/50\n",
            "1563/1563 [==============================] - 36s 23ms/step - loss: 0.1039 - accuracy: 0.9647 - val_loss: 1.0055 - val_accuracy: 0.7573\n",
            "Epoch 44/50\n",
            "1563/1563 [==============================] - 36s 23ms/step - loss: 0.0990 - accuracy: 0.9671 - val_loss: 1.0369 - val_accuracy: 0.7501\n",
            "Epoch 45/50\n",
            "1563/1563 [==============================] - 36s 23ms/step - loss: 0.1006 - accuracy: 0.9660 - val_loss: 1.0240 - val_accuracy: 0.7542\n",
            "Epoch 46/50\n",
            "1563/1563 [==============================] - 36s 23ms/step - loss: 0.0969 - accuracy: 0.9676 - val_loss: 1.0143 - val_accuracy: 0.7578\n",
            "Epoch 47/50\n",
            "1563/1563 [==============================] - 36s 23ms/step - loss: 0.0954 - accuracy: 0.9681 - val_loss: 1.0514 - val_accuracy: 0.7545\n",
            "Epoch 48/50\n",
            "1563/1563 [==============================] - 36s 23ms/step - loss: 0.0908 - accuracy: 0.9692 - val_loss: 1.0800 - val_accuracy: 0.7511\n",
            "Epoch 49/50\n",
            "1563/1563 [==============================] - 36s 23ms/step - loss: 0.0906 - accuracy: 0.9698 - val_loss: 1.0949 - val_accuracy: 0.7555\n",
            "Epoch 50/50\n",
            "1563/1563 [==============================] - 36s 23ms/step - loss: 0.0905 - accuracy: 0.9707 - val_loss: 0.9876 - val_accuracy: 0.7581\n"
          ],
          "name": "stdout"
        },
        {
          "output_type": "execute_result",
          "data": {
            "text/plain": [
              "<tensorflow.python.keras.callbacks.History at 0x7fc9a3365f28>"
            ]
          },
          "metadata": {
            "tags": []
          },
          "execution_count": 28
        }
      ]
    },
    {
      "cell_type": "code",
      "metadata": {
        "id": "LefH0qjhzWaY",
        "colab_type": "code",
        "colab": {
          "base_uri": "https://localhost:8080/",
          "height": 282
        },
        "outputId": "de0e809b-27bf-4c7a-a6c1-f2cc04a89d29"
      },
      "source": [
        "plt.plot(model.history.history['loss'],label='train_loss')\n",
        "plt.plot(model.history.history['val_loss'],label='val_loss')\n",
        "plt.legend()"
      ],
      "execution_count": null,
      "outputs": [
        {
          "output_type": "execute_result",
          "data": {
            "text/plain": [
              "<matplotlib.legend.Legend at 0x7fc9a2c24828>"
            ]
          },
          "metadata": {
            "tags": []
          },
          "execution_count": 29
        },
        {
          "output_type": "display_data",
          "data": {
            "image/png": "[encoded data removed]",
            "text/plain": [
              "<Figure size 432x288 with 1 Axes>"
            ]
          },
          "metadata": {
            "tags": [],
            "needs_background": "light"
          }
        }
      ]
    },
    {
      "cell_type": "code",
      "metadata": {
        "id": "Wqi2PZET93TX",
        "colab_type": "code",
        "colab": {
          "base_uri": "https://localhost:8080/",
          "height": 285
        },
        "outputId": "05bcd330-70d4-43d9-9d34-3b0a0740ad45"
      },
      "source": [
        "plt.plot(model.history.history['accuracy'],label='train_accuracy')\n",
        "plt.plot(model.history.history['val_accuracy'],label='val_accuracy')\n",
        "plt.legend()"
      ],
      "execution_count": null,
      "outputs": [
        {
          "output_type": "execute_result",
          "data": {
            "text/plain": [
              "<matplotlib.legend.Legend at 0x7fc9a2c5ab00>"
            ]
          },
          "metadata": {
            "tags": []
          },
          "execution_count": 30
        },
        {
          "output_type": "display_data",
          "data": {
            "image/png": "[encoded data removed]",
            "text/plain": [
              "<Figure size 432x288 with 1 Axes>"
            ]
          },
          "metadata": {
            "tags": [],
            "needs_background": "light"
          }
        }
      ]
    },
    {
      "cell_type": "code",
      "metadata": {
        "id": "-dsBLkvr97By",
        "colab_type": "code",
        "colab": {}
      },
      "source": [
        ""
      ],
      "execution_count": null,
      "outputs": []
    }
  ]
}