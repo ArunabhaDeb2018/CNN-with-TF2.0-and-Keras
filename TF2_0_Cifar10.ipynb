{
  "nbformat": 4,
  "nbformat_minor": 0,
  "metadata": {
    "colab": {
      "name": "TF2.0-Cifar10.ipynb",
      "provenance": [],
      "collapsed_sections": [],
      "authorship_tag": "ABX9TyMz8cm1fwaalSPPppE+Z0zZ",
      "include_colab_link": true
    },
    "kernelspec": {
      "name": "python3",
      "display_name": "Python 3"
    },
    "accelerator": "GPU"
  },
  "cells": [
    {
      "cell_type": "markdown",
      "metadata": {
        "id": "view-in-github",
        "colab_type": "text"
      },
      "source": [
        "<a href=\"https://colab.research.google.com/github/ArunabhaDeb2018/DeepLearning_CNN/blob/master/TF2_0_Cifar10.ipynb\" target=\"_parent\"><img src=\"https://colab.research.google.com/assets/colab-badge.svg\" alt=\"Open In Colab\"/></a>"
      ]
    },
    {
      "cell_type": "code",
      "metadata": {
        "id": "rxI9JMedYXiU",
        "colab_type": "code",
        "colab": {}
      },
      "source": [
        "import tensorflow as tf\n",
        "from tensorflow.keras.layers import Dense,Flatten"
      ],
      "execution_count": null,
      "outputs": []
    },
    {
      "cell_type": "code",
      "metadata": {
        "id": "HmUV_VeSY6LH",
        "colab_type": "code",
        "colab": {}
      },
      "source": [
        "from tensorflow.keras.layers import MaxPool2D,Activation,BatchNormalization,Dropout,Input,Conv2D"
      ],
      "execution_count": null,
      "outputs": []
    },
    {
      "cell_type": "code",
      "metadata": {
        "id": "zVDQbFjhZOm8",
        "colab_type": "code",
        "colab": {}
      },
      "source": [
        "import numpy as np"
      ],
      "execution_count": null,
      "outputs": []
    },
    {
      "cell_type": "code",
      "metadata": {
        "id": "C_9V3TpBiJ83",
        "colab_type": "code",
        "colab": {
          "base_uri": "https://localhost:8080/",
          "height": 34
        },
        "outputId": "47a4f7a1-bfaf-495e-c34b-dcde659beb50"
      },
      "source": [
        "print(tf.test.gpu_device_name())"
      ],
      "execution_count": null,
      "outputs": [
        {
          "output_type": "stream",
          "text": [
            "/device:GPU:0\n"
          ],
          "name": "stdout"
        }
      ]
    },
    {
      "cell_type": "code",
      "metadata": {
        "id": "ySRsiAmOZTHx",
        "colab_type": "code",
        "colab": {}
      },
      "source": [
        "from tensorflow.keras.models import Model"
      ],
      "execution_count": null,
      "outputs": []
    },
    {
      "cell_type": "code",
      "metadata": {
        "id": "yPG6-BFoZZ21",
        "colab_type": "code",
        "colab": {}
      },
      "source": [
        "from tensorflow.keras.datasets import cifar10"
      ],
      "execution_count": null,
      "outputs": []
    },
    {
      "cell_type": "code",
      "metadata": {
        "id": "PrszGYhvZqdu",
        "colab_type": "code",
        "colab": {
          "base_uri": "https://localhost:8080/",
          "height": 51
        },
        "outputId": "d7c55c04-1c61-4f7b-d0d7-7de9be2298d3"
      },
      "source": [
        "(X_train,y_train),(X_test,y_test)=cifar10.load_data()"
      ],
      "execution_count": null,
      "outputs": [
        {
          "output_type": "stream",
          "text": [
            "Downloading data from https://www.cs.toronto.edu/~kriz/cifar-10-python.tar.gz\n",
            "170500096/170498071 [==============================] - 2s 0us/step\n"
          ],
          "name": "stdout"
        }
      ]
    },
    {
      "cell_type": "code",
      "metadata": {
        "id": "9INZ0S3lZ2AL",
        "colab_type": "code",
        "colab": {
          "base_uri": "https://localhost:8080/",
          "height": 34
        },
        "outputId": "6417ca2c-395c-40d0-cc28-5f34a71c97e2"
      },
      "source": [
        "X_train[0].shape"
      ],
      "execution_count": null,
      "outputs": [
        {
          "output_type": "execute_result",
          "data": {
            "text/plain": [
              "(32, 32, 3)"
            ]
          },
          "metadata": {
            "tags": []
          },
          "execution_count": 8
        }
      ]
    },
    {
      "cell_type": "code",
      "metadata": {
        "id": "btn9aRbBZ6pr",
        "colab_type": "code",
        "colab": {
          "base_uri": "https://localhost:8080/",
          "height": 34
        },
        "outputId": "bbbbef52-eaf0-4e64-c50b-0f07f3c6a728"
      },
      "source": [
        "y_train.shape"
      ],
      "execution_count": null,
      "outputs": [
        {
          "output_type": "execute_result",
          "data": {
            "text/plain": [
              "(50000, 1)"
            ]
          },
          "metadata": {
            "tags": []
          },
          "execution_count": 9
        }
      ]
    },
    {
      "cell_type": "code",
      "metadata": {
        "id": "psAg9fMvZ9iN",
        "colab_type": "code",
        "colab": {}
      },
      "source": [
        "X_train,X_test=X_train/255.0,X_test/255.0;"
      ],
      "execution_count": null,
      "outputs": []
    },
    {
      "cell_type": "code",
      "metadata": {
        "id": "kZ2ueurqaRwv",
        "colab_type": "code",
        "colab": {}
      },
      "source": [
        "i=Input(shape=X_train[0].shape)"
      ],
      "execution_count": null,
      "outputs": []
    },
    {
      "cell_type": "code",
      "metadata": {
        "id": "XDXLVektalJS",
        "colab_type": "code",
        "colab": {}
      },
      "source": [
        "x=Conv2D(filters=32,kernel_size=(3,3),padding='same')(i)\n",
        "x=BatchNormalization()(x)\n",
        "x=Activation('relu')(x)"
      ],
      "execution_count": null,
      "outputs": []
    },
    {
      "cell_type": "code",
      "metadata": {
        "id": "YjChdzBqbauH",
        "colab_type": "code",
        "colab": {}
      },
      "source": [
        "x=Conv2D(filters=64,kernel_size=(3,3),padding='same')(x)\n",
        "x=BatchNormalization()(x)\n",
        "x=Activation('relu')(x)"
      ],
      "execution_count": null,
      "outputs": []
    },
    {
      "cell_type": "code",
      "metadata": {
        "id": "dPg-wTyibfIE",
        "colab_type": "code",
        "colab": {}
      },
      "source": [
        "x=Conv2D(filters=128,kernel_size=(3,3),padding='same')(x)\n",
        "x=BatchNormalization()(x)\n",
        "x=Activation('relu')(x)"
      ],
      "execution_count": null,
      "outputs": []
    },
    {
      "cell_type": "code",
      "metadata": {
        "id": "yVXA3D-Gbicq",
        "colab_type": "code",
        "colab": {}
      },
      "source": [
        "x=MaxPool2D(strides=2,pool_size=(2,2),padding='valid')(x)"
      ],
      "execution_count": null,
      "outputs": []
    },
    {
      "cell_type": "code",
      "metadata": {
        "id": "8kapTxaSbymr",
        "colab_type": "code",
        "colab": {}
      },
      "source": [
        "x=Conv2D(filters=256,kernel_size=(3,3),padding='same')(x)\n",
        "x=BatchNormalization()(x)\n",
        "x=Activation('relu')(x)"
      ],
      "execution_count": null,
      "outputs": []
    },
    {
      "cell_type": "code",
      "metadata": {
        "id": "2zwaCwr9b-lb",
        "colab_type": "code",
        "colab": {}
      },
      "source": [
        "x=MaxPool2D(strides=2,pool_size=(2,2),padding='valid')(x)"
      ],
      "execution_count": null,
      "outputs": []
    },
    {
      "cell_type": "code",
      "metadata": {
        "id": "UTvivJGEcJlq",
        "colab_type": "code",
        "colab": {}
      },
      "source": [
        "x=Flatten()(x)"
      ],
      "execution_count": null,
      "outputs": []
    },
    {
      "cell_type": "code",
      "metadata": {
        "id": "MT0bOLj4cQYt",
        "colab_type": "code",
        "colab": {}
      },
      "source": [
        "x=Dense(1024,activation='relu')(x)"
      ],
      "execution_count": null,
      "outputs": []
    },
    {
      "cell_type": "code",
      "metadata": {
        "id": "q62udj7jc_J-",
        "colab_type": "code",
        "colab": {}
      },
      "source": [
        "x=Dropout(0.4)(x)"
      ],
      "execution_count": null,
      "outputs": []
    },
    {
      "cell_type": "code",
      "metadata": {
        "id": "7DPOi4NpdIiu",
        "colab_type": "code",
        "colab": {}
      },
      "source": [
        "x=Dense(128,activation='relu')(x)\n",
        "x=Dropout(0.4)(x)"
      ],
      "execution_count": null,
      "outputs": []
    },
    {
      "cell_type": "code",
      "metadata": {
        "id": "rzCLJ4c8dNGQ",
        "colab_type": "code",
        "colab": {}
      },
      "source": [
        "x=Dense(len(set(y_test[:,0])),activation='softmax')(x)"
      ],
      "execution_count": null,
      "outputs": []
    },
    {
      "cell_type": "code",
      "metadata": {
        "id": "ILY8lbYqflxr",
        "colab_type": "code",
        "colab": {}
      },
      "source": [
        "model=Model(inputs=i,outputs=x)"
      ],
      "execution_count": null,
      "outputs": []
    },
    {
      "cell_type": "code",
      "metadata": {
        "id": "HHHzDSUBfqSF",
        "colab_type": "code",
        "colab": {}
      },
      "source": [
        "model.compile(optimizer='adam',loss='sparse_categorical_crossentropy',metrics=['accuracy'])"
      ],
      "execution_count": null,
      "outputs": []
    },
    {
      "cell_type": "code",
      "metadata": {
        "id": "ynNvigSlgPch",
        "colab_type": "code",
        "colab": {
          "base_uri": "https://localhost:8080/",
          "height": 714
        },
        "outputId": "928dd4db-4936-43bd-e3da-6b17bf175a10"
      },
      "source": [
        "model.fit(X_train,y_train,epochs=20,batch_size=32,validation_data=(X_test,y_test))"
      ],
      "execution_count": null,
      "outputs": [
        {
          "output_type": "stream",
          "text": [
            "Epoch 1/20\n",
            "1563/1563 [==============================] - 51s 33ms/step - loss: 2.4006 - accuracy: 0.1023 - val_loss: 2.2931 - val_accuracy: 0.1178\n",
            "Epoch 2/20\n",
            "1563/1563 [==============================] - 50s 32ms/step - loss: 2.1914 - accuracy: 0.1537 - val_loss: 1.9780 - val_accuracy: 0.2687\n",
            "Epoch 3/20\n",
            "1563/1563 [==============================] - 51s 32ms/step - loss: 1.8714 - accuracy: 0.2711 - val_loss: 1.5268 - val_accuracy: 0.4280\n",
            "Epoch 4/20\n",
            "1563/1563 [==============================] - 50s 32ms/step - loss: 1.3982 - accuracy: 0.4947 - val_loss: 1.1178 - val_accuracy: 0.6080\n",
            "Epoch 5/20\n",
            "1563/1563 [==============================] - 50s 32ms/step - loss: 1.0568 - accuracy: 0.6326 - val_loss: 0.9122 - val_accuracy: 0.6814\n",
            "Epoch 6/20\n",
            "1563/1563 [==============================] - 50s 32ms/step - loss: 0.8660 - accuracy: 0.7060 - val_loss: 0.7797 - val_accuracy: 0.7300\n",
            "Epoch 7/20\n",
            "1563/1563 [==============================] - 50s 32ms/step - loss: 0.7296 - accuracy: 0.7537 - val_loss: 0.7471 - val_accuracy: 0.7434\n",
            "Epoch 8/20\n",
            "1563/1563 [==============================] - 50s 32ms/step - loss: 0.6203 - accuracy: 0.7894 - val_loss: 0.6596 - val_accuracy: 0.7767\n",
            "Epoch 9/20\n",
            "1563/1563 [==============================] - 51s 32ms/step - loss: 0.5173 - accuracy: 0.8245 - val_loss: 0.7224 - val_accuracy: 0.7646\n",
            "Epoch 10/20\n",
            "1563/1563 [==============================] - 50s 32ms/step - loss: 0.4392 - accuracy: 0.8501 - val_loss: 0.6571 - val_accuracy: 0.7874\n",
            "Epoch 11/20\n",
            "1563/1563 [==============================] - 50s 32ms/step - loss: 0.3699 - accuracy: 0.8752 - val_loss: 0.7156 - val_accuracy: 0.7812\n",
            "Epoch 12/20\n",
            "1563/1563 [==============================] - 50s 32ms/step - loss: 0.3124 - accuracy: 0.8950 - val_loss: 0.8229 - val_accuracy: 0.7580\n",
            "Epoch 13/20\n",
            "1563/1563 [==============================] - 50s 32ms/step - loss: 0.2720 - accuracy: 0.9086 - val_loss: 0.7454 - val_accuracy: 0.7866\n",
            "Epoch 14/20\n",
            "1563/1563 [==============================] - 50s 32ms/step - loss: 0.2331 - accuracy: 0.9225 - val_loss: 0.7390 - val_accuracy: 0.7982\n",
            "Epoch 15/20\n",
            "1563/1563 [==============================] - 50s 32ms/step - loss: 0.2086 - accuracy: 0.9300 - val_loss: 0.7991 - val_accuracy: 0.7917\n",
            "Epoch 16/20\n",
            "1563/1563 [==============================] - 50s 32ms/step - loss: 0.1847 - accuracy: 0.9389 - val_loss: 0.8118 - val_accuracy: 0.7919\n",
            "Epoch 17/20\n",
            "1563/1563 [==============================] - 50s 32ms/step - loss: 0.1697 - accuracy: 0.9442 - val_loss: 0.8392 - val_accuracy: 0.7899\n",
            "Epoch 18/20\n",
            "1563/1563 [==============================] - 50s 32ms/step - loss: 0.1543 - accuracy: 0.9492 - val_loss: 0.8909 - val_accuracy: 0.7837\n",
            "Epoch 19/20\n",
            "1563/1563 [==============================] - 50s 32ms/step - loss: 0.1436 - accuracy: 0.9532 - val_loss: 0.8434 - val_accuracy: 0.7763\n",
            "Epoch 20/20\n",
            "1563/1563 [==============================] - 50s 32ms/step - loss: 0.1351 - accuracy: 0.9554 - val_loss: 0.8900 - val_accuracy: 0.7878\n"
          ],
          "name": "stdout"
        },
        {
          "output_type": "execute_result",
          "data": {
            "text/plain": [
              "<tensorflow.python.keras.callbacks.History at 0x7f2da0078860>"
            ]
          },
          "metadata": {
            "tags": []
          },
          "execution_count": 25
        }
      ]
    },
    {
      "cell_type": "code",
      "metadata": {
        "id": "8yBPz9amkKM6",
        "colab_type": "code",
        "colab": {
          "base_uri": "https://localhost:8080/",
          "height": 285
        },
        "outputId": "22eca02b-d097-49d4-dfb5-ef48b8a6a931"
      },
      "source": [
        "import matplotlib.pyplot as plt\n",
        "\n",
        "plt.plot(model.history.history['loss'],label='train_loss')\n",
        "plt.plot(model.history.history['val_loss'],label='val_loss')\n",
        "plt.legend()"
      ],
      "execution_count": null,
      "outputs": [
        {
          "output_type": "execute_result",
          "data": {
            "text/plain": [
              "<matplotlib.legend.Legend at 0x7f2d9cd84f28>"
            ]
          },
          "metadata": {
            "tags": []
          },
          "execution_count": 26
        },
        {
          "output_type": "display_data",
          "data": {
            "image/png": "[encoded data removed]",
            "text/plain": [
              "<Figure size 432x288 with 1 Axes>"
            ]
          },
          "metadata": {
            "tags": [],
            "needs_background": "light"
          }
        }
      ]
    },
    {
      "cell_type": "code",
      "metadata": {
        "id": "Dp0bddI0R1OI",
        "colab_type": "code",
        "colab": {
          "base_uri": "https://localhost:8080/",
          "height": 282
        },
        "outputId": "353a8919-d63e-40d9-a0ba-220ae6c5d631"
      },
      "source": [
        "plt.plot(model.history.history['accuracy'],label='train_accuracy')\n",
        "plt.plot(model.history.history['val_accuracy'],label='val_accuracy')\n",
        "plt.legend()"
      ],
      "execution_count": null,
      "outputs": [
        {
          "output_type": "execute_result",
          "data": {
            "text/plain": [
              "<matplotlib.legend.Legend at 0x7f2d9cccd7f0>"
            ]
          },
          "metadata": {
            "tags": []
          },
          "execution_count": 27
        },
        {
          "output_type": "display_data",
          "data": {
            "image/png": "[encoded data removed]",
            "text/plain": [
              "<Figure size 432x288 with 1 Axes>"
            ]
          },
          "metadata": {
            "tags": [],
            "needs_background": "light"
          }
        }
      ]
    },
    {
      "cell_type": "code",
      "metadata": {
        "id": "uxvbohLxm8ta",
        "colab_type": "code",
        "colab": {
          "base_uri": "https://localhost:8080/",
          "height": 51
        },
        "outputId": "fefcec0c-433f-407a-8076-74e4d8cbefc9"
      },
      "source": [
        "model.evaluate(X_test,y_test)"
      ],
      "execution_count": null,
      "outputs": [
        {
          "output_type": "stream",
          "text": [
            "313/313 [==============================] - 3s 10ms/step - loss: 0.8900 - accuracy: 0.7878\n"
          ],
          "name": "stdout"
        },
        {
          "output_type": "execute_result",
          "data": {
            "text/plain": [
              "[0.8899510502815247, 0.7878000140190125]"
            ]
          },
          "metadata": {
            "tags": []
          },
          "execution_count": 28
        }
      ]
    },
    {
      "cell_type": "code",
      "metadata": {
        "id": "vfEXpcToSFU0",
        "colab_type": "code",
        "colab": {}
      },
      "source": [
        "pred=model.predict(X_test)"
      ],
      "execution_count": null,
      "outputs": []
    },
    {
      "cell_type": "code",
      "metadata": {
        "id": "l5kOOWOeSOrK",
        "colab_type": "code",
        "colab": {
          "base_uri": "https://localhost:8080/",
          "height": 34
        },
        "outputId": "180215cb-4ff1-4e00-d671-41d012177f44"
      },
      "source": [
        "pred.shape"
      ],
      "execution_count": null,
      "outputs": [
        {
          "output_type": "execute_result",
          "data": {
            "text/plain": [
              "(10000, 10)"
            ]
          },
          "metadata": {
            "tags": []
          },
          "execution_count": 31
        }
      ]
    },
    {
      "cell_type": "code",
      "metadata": {
        "id": "Iiy61rKFSaav",
        "colab_type": "code",
        "colab": {
          "base_uri": "https://localhost:8080/",
          "height": 51
        },
        "outputId": "d5c30729-99af-486e-a9c3-1a20a474e9d0"
      },
      "source": [
        "print(pred[0])"
      ],
      "execution_count": null,
      "outputs": [
        {
          "output_type": "stream",
          "text": [
            "[2.0475769e-08 7.4854928e-13 1.8331621e-08 9.9997497e-01 1.5819868e-10\n",
            " 2.4471481e-05 5.2250346e-07 2.8005332e-11 1.2359432e-10 3.7520691e-11]\n"
          ],
          "name": "stdout"
        }
      ]
    },
    {
      "cell_type": "code",
      "metadata": {
        "id": "FFsxoTLlnpmr",
        "colab_type": "code",
        "colab": {
          "base_uri": "https://localhost:8080/",
          "height": 204
        },
        "outputId": "58984bee-23ac-4014-aec5-9df9d6642330"
      },
      "source": [
        "tf.math.confusion_matrix(y_test,np.argmax(model.predict(X_test),axis=1),num_classes=len(set(y_test[:,0])))"
      ],
      "execution_count": null,
      "outputs": [
        {
          "output_type": "execute_result",
          "data": {
            "text/plain": [
              "<tf.Tensor: shape=(10, 10), dtype=int32, numpy=\n",
              "array([[830,  17,  33,  20,  13,   2,   7,  12,  37,  29],\n",
              "       [ 11, 898,   0,   2,   2,   4,   2,   4,   7,  70],\n",
              "       [ 62,   3, 684,  41,  82,  50,  38,  24,   9,   7],\n",
              "       [ 23,   2,  70, 628,  42, 147,  49,  23,   4,  12],\n",
              "       [ 21,   1,  65,  42, 754,  34,  30,  45,   5,   3],\n",
              "       [  9,   2,  44, 151,  26, 716,  11,  31,   5,   5],\n",
              "       [  6,   4,  45,  63,  40,  14, 816,   8,   2,   2],\n",
              "       [  7,   2,  16,  33,  48,  42,   3, 836,   2,  11],\n",
              "       [ 65,  29,  11,  17,   4,   5,   5,   2, 841,  21],\n",
              "       [ 25,  52,   2,   9,   6,   4,   2,   8,  17, 875]], dtype=int32)>"
            ]
          },
          "metadata": {
            "tags": []
          },
          "execution_count": 33
        }
      ]
    },
    {
      "cell_type": "code",
      "metadata": {
        "id": "4nuuCO_JSYYB",
        "colab_type": "code",
        "colab": {}
      },
      "source": [
        "cifar10_labels=['Aeroplane','automobile','bird','cat','deer','dog','frog','horse','ship','truck']"
      ],
      "execution_count": null,
      "outputs": []
    },
    {
      "cell_type": "code",
      "metadata": {
        "id": "HfG93TYnx8_A",
        "colab_type": "code",
        "colab": {
          "base_uri": "https://localhost:8080/",
          "height": 368
        },
        "outputId": "2e7a0868-8b27-49cc-d6bb-c0e47bc02192"
      },
      "source": [
        "plt.imshow(X_test[122])\n",
        "print('\\n')\n",
        "print(y_test[122])\n",
        "print('\\n')\n",
        "print(np.argmax(pred[122]))"
      ],
      "execution_count": null,
      "outputs": [
        {
          "output_type": "stream",
          "text": [
            "\n",
            "\n",
            "[1]\n",
            "\n",
            "\n",
            "1\n"
          ],
          "name": "stdout"
        },
        {
          "output_type": "display_data",
          "data": {
            "image/png": "[encoded data removed]",
            "text/plain": [
              "<Figure size 432x288 with 1 Axes>"
            ]
          },
          "metadata": {
            "tags": [],
            "needs_background": "light"
          }
        }
      ]
    },
    {
      "cell_type": "code",
      "metadata": {
        "id": "VLQMM0FhT1hC",
        "colab_type": "code",
        "colab": {
          "base_uri": "https://localhost:8080/",
          "height": 34
        },
        "outputId": "5cbde9f9-372c-46bc-faa1-0716ea32ce56"
      },
      "source": [
        "len(y_test[:,0])"
      ],
      "execution_count": null,
      "outputs": [
        {
          "output_type": "execute_result",
          "data": {
            "text/plain": [
              "10000"
            ]
          },
          "metadata": {
            "tags": []
          },
          "execution_count": 51
        }
      ]
    },
    {
      "cell_type": "code",
      "metadata": {
        "id": "lpWztmaTVY_Z",
        "colab_type": "code",
        "colab": {}
      },
      "source": [
        "idx=[]\n",
        "for i in range (0,len(y_test[:,0])):\n",
        "  if y_test[i] != np.argmax(pred[i]):\n",
        "    idx.append(i);"
      ],
      "execution_count": null,
      "outputs": []
    },
    {
      "cell_type": "code",
      "metadata": {
        "id": "VfH83XvNVaCU",
        "colab_type": "code",
        "colab": {
          "base_uri": "https://localhost:8080/",
          "height": 34
        },
        "outputId": "63c7e9b3-a975-4c6b-a852-035368050597"
      },
      "source": [
        "len(idx)"
      ],
      "execution_count": null,
      "outputs": [
        {
          "output_type": "execute_result",
          "data": {
            "text/plain": [
              "2122"
            ]
          },
          "metadata": {
            "tags": []
          },
          "execution_count": 58
        }
      ]
    },
    {
      "cell_type": "code",
      "metadata": {
        "id": "WJw1yZ_5Vfbs",
        "colab_type": "code",
        "colab": {
          "base_uri": "https://localhost:8080/",
          "height": 187
        },
        "outputId": "7b46ccff-50b3-4c4e-dabd-87dcd63b1014"
      },
      "source": [
        "i=np.random.choice(idx)\n",
        "print('True label')\n",
        "print('\\n')\n",
        "print(cifar10_labels[np.squeeze(y_test[i])])\n",
        "print('\\n')\n",
        "print('Predicted label')\n",
        "print('\\n')\n",
        "print(cifar10_labels[np.argmax(pred[i])])"
      ],
      "execution_count": null,
      "outputs": [
        {
          "output_type": "stream",
          "text": [
            "True label\n",
            "\n",
            "\n",
            "cat\n",
            "\n",
            "\n",
            "Predicted label\n",
            "\n",
            "\n",
            "deer\n"
          ],
          "name": "stdout"
        }
      ]
    },
    {
      "cell_type": "code",
      "metadata": {
        "id": "9ZrCO-LDZKQr",
        "colab_type": "code",
        "colab": {}
      },
      "source": [
        ""
      ],
      "execution_count": null,
      "outputs": []
    }
  ]
}