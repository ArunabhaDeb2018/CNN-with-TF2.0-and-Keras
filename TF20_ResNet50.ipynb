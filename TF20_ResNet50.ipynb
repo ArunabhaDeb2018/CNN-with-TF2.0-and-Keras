{
  "nbformat": 4,
  "nbformat_minor": 0,
  "metadata": {
    "colab": {
      "name": "TF20-ResNet50.ipynb",
      "provenance": [],
      "authorship_tag": "ABX9TyOJ1/ZrOdFlMerX56mT/g4x",
      "include_colab_link": true
    },
    "kernelspec": {
      "name": "python3",
      "display_name": "Python 3"
    }
  },
  "cells": [
    {
      "cell_type": "markdown",
      "metadata": {
        "id": "view-in-github",
        "colab_type": "text"
      },
      "source": [
        "<a href=\"https://colab.research.google.com/github/ArunabhaDeb2018/DeepLearning_CNN/blob/master/TF20_ResNet50.ipynb\" target=\"_parent\"><img src=\"https://colab.research.google.com/assets/colab-badge.svg\" alt=\"Open In Colab\"/></a>"
      ]
    },
    {
      "cell_type": "code",
      "metadata": {
        "id": "NAcPmivmueRO",
        "colab_type": "code",
        "colab": {}
      },
      "source": [
        "#https://towardsdatascience.com/hitchhikers-guide-to-residual-networks-resnet-in-keras-385ec01ec8ff?gi=2069c839cbfc"
      ],
      "execution_count": null,
      "outputs": []
    },
    {
      "cell_type": "code",
      "metadata": {
        "id": "N0Sm2ZaBuwZ_",
        "colab_type": "code",
        "colab": {}
      },
      "source": [
        "import tensorflow as tf\n",
        "from tensorflow.keras.layers import Dense,Flatten,MaxPool2D,Activation,BatchNormalization,Dropout,Input,Conv2D,Add,ZeroPadding2D,AveragePooling2D\n",
        "from tensorflow.keras.models import Model"
      ],
      "execution_count": null,
      "outputs": []
    },
    {
      "cell_type": "code",
      "metadata": {
        "id": "CQReOC_fwCrw",
        "colab_type": "code",
        "colab": {}
      },
      "source": [
        "from tensorflow.keras.models import Model\n",
        "from tensorflow.keras.datasets import cifar10"
      ],
      "execution_count": null,
      "outputs": []
    },
    {
      "cell_type": "code",
      "metadata": {
        "id": "3ZrTb3jJwMHO",
        "colab_type": "code",
        "colab": {}
      },
      "source": [
        "import numpy as np\n",
        "import matplotlib.pyplot as plt\n"
      ],
      "execution_count": null,
      "outputs": []
    },
    {
      "cell_type": "code",
      "metadata": {
        "id": "UOCdjVg2wPvf",
        "colab_type": "code",
        "colab": {}
      },
      "source": [
        "def identity_block(X, f, filters, stage, block):\n",
        "    \n",
        "    # Defining name basis\n",
        "    conv_name_base = 'res' + str(stage) + block + '_branch'\n",
        "    bn_name_base = 'bn' + str(stage) + block + '_branch'\n",
        "    \n",
        "    # Retrieve Filters\n",
        "    F1, F2, F3 = filters\n",
        "    \n",
        "    # Save the input value\n",
        "    X_shortcut = X\n",
        "    \n",
        "    # First component of main path\n",
        "    X = Conv2D(filters = F1, kernel_size = (1, 1), strides = (1,1), padding = 'valid', name = conv_name_base + '2a')(X)\n",
        "    X = BatchNormalization(axis = 3, name = bn_name_base + '2a')(X)\n",
        "    X = Activation('relu')(X)\n",
        "    \n",
        "    # Second component of main path\n",
        "    X = Conv2D(filters = F2, kernel_size = (f, f), strides = (1, 1), padding = 'same', name = conv_name_base + '2b')(X)\n",
        "    X = BatchNormalization(axis = 3, name = bn_name_base + '2b')(X)\n",
        "    X = Activation('relu')(X)\n",
        "\n",
        "    # Third component of main path \n",
        "    X = Conv2D(filters = F3, kernel_size = (1, 1), strides = (1, 1), padding = 'valid', name = conv_name_base + '2c')(X)\n",
        "    X = BatchNormalization(axis = 3, name = bn_name_base + '2c')(X)\n",
        "\n",
        "    # Final step: Add shortcut value to main path, and pass it through a RELU activation\n",
        "    X = Add()([X, X_shortcut])\n",
        "    X = Activation('relu')(X)\n",
        "    \n",
        "    return X"
      ],
      "execution_count": null,
      "outputs": []
    },
    {
      "cell_type": "code",
      "metadata": {
        "id": "aVQjCgj1xNeh",
        "colab_type": "code",
        "colab": {}
      },
      "source": [
        "def convolutional_block(X, f, filters, stage, block, s=2):\n",
        "\n",
        "    # Defining name basis\n",
        "    conv_name_base = 'res' + str(stage) + block + '_branch'\n",
        "    bn_name_base = 'bn' + str(stage) + block + '_branch'\n",
        "\n",
        "    # Retrieve Filters\n",
        "    F1, F2, F3 = filters\n",
        "\n",
        "    # Save the input value\n",
        "    X_shortcut = X\n",
        "\n",
        "    ##### MAIN PATH #####\n",
        "    # First component of main path \n",
        "    X = Conv2D(filters=F1, kernel_size=(1, 1), strides=(s, s), padding='valid', name=conv_name_base + '2a')(X)\n",
        "    X = BatchNormalization(axis=3, name=bn_name_base + '2a')(X)\n",
        "    X = Activation('relu')(X)\n",
        "\n",
        "    # Second component of main path\n",
        "    X = Conv2D(filters=F2, kernel_size=(f, f), strides=(1, 1), padding='same', name=conv_name_base + '2b')(X)\n",
        "    X = BatchNormalization(axis=3, name=bn_name_base + '2b')(X)\n",
        "    X = Activation('relu')(X)\n",
        "\n",
        "    # Third component of main path\n",
        "    X = Conv2D(filters=F3, kernel_size=(1, 1), strides=(1, 1), padding='valid', name=conv_name_base + '2c')(X)\n",
        "    X = BatchNormalization(axis=3, name=bn_name_base + '2c')(X)\n",
        "\n",
        "    ##### SHORTCUT PATH #### \n",
        "    X_shortcut = Conv2D(filters=F3, kernel_size=(1, 1), strides=(s, s), padding='valid', name=conv_name_base + '1')(X_shortcut)\n",
        "    X_shortcut = BatchNormalization(axis=3, name=bn_name_base + '1')(X_shortcut)\n",
        "\n",
        "    # Final step: Add shortcut value to main path, and pass it through a RELU activation\n",
        "    X = Add()([X, X_shortcut])\n",
        "    X = Activation('relu')(X)\n",
        "\n",
        "    return X"
      ],
      "execution_count": null,
      "outputs": []
    },
    {
      "cell_type": "code",
      "metadata": {
        "id": "1xfEmUyMxn8n",
        "colab_type": "code",
        "colab": {}
      },
      "source": [
        "def ResNet50(input_shape, classes):\n",
        "    \n",
        "    # Define the input as a tensor with shape input_shape\n",
        "    X_input = Input(input_shape)\n",
        "\n",
        "    \n",
        "    # Zero-Padding\n",
        "    X = ZeroPadding2D((3, 3))(X_input)\n",
        "    \n",
        "    # Stage 1\n",
        "    X = Conv2D(64, (7, 7), strides = (2, 2), name = 'conv1')(X)\n",
        "    X = BatchNormalization(axis = 3, name = 'bn_conv1')(X)\n",
        "    X = Activation('relu')(X)\n",
        "    X = MaxPool2D((3, 3), strides=(2, 2))(X)\n",
        "\n",
        "    # Stage 2\n",
        "    X = convolutional_block(X, f = 3, filters = [64, 64, 256], stage = 2, block='a', s = 1)\n",
        "    X = identity_block(X, 3, [64, 64, 256], stage=2, block='b')\n",
        "    X = identity_block(X, 3, [64, 64, 256], stage=2, block='c')\n",
        "\n",
        "    # Stage 3\n",
        "    X = convolutional_block(X, f=3, filters=[128, 128, 512], stage=3, block='a', s=2)\n",
        "    X = identity_block(X, 3, [128, 128, 512], stage=3, block='b')\n",
        "    X = identity_block(X, 3, [128, 128, 512], stage=3, block='c')\n",
        "    X = identity_block(X, 3, [128, 128, 512], stage=3, block='d')\n",
        "\n",
        "    # Stage 4\n",
        "    X = convolutional_block(X, f=3, filters=[256, 256, 1024], stage=4, block='a', s=2)\n",
        "    X = identity_block(X, 3, [256, 256, 1024], stage=4, block='b')\n",
        "    X = identity_block(X, 3, [256, 256, 1024], stage=4, block='c')\n",
        "    X = identity_block(X, 3, [256, 256, 1024], stage=4, block='d')\n",
        "    X = identity_block(X, 3, [256, 256, 1024], stage=4, block='e')\n",
        "    X = identity_block(X, 3, [256, 256, 1024], stage=4, block='f')\n",
        "\n",
        "    # Stage 5\n",
        "    X = convolutional_block(X, f=3, filters=[512, 512, 2048], stage=5, block='a', s=2)\n",
        "    X = identity_block(X, 3, [512, 512, 2048], stage=5, block='b')\n",
        "    X = identity_block(X, 3, [512, 512, 2048], stage=5, block='c')\n",
        "\n",
        "    # AVGPOOL\n",
        "    X = AveragePooling2D(pool_size=(2,2), padding='same')(X)\n",
        "\n",
        "    # Output layer\n",
        "    X = Flatten()(X)\n",
        "    X = Dense(classes, activation='softmax', name='fc' + str(classes))(X)\n",
        "    \n",
        "    \n",
        "    # Create model\n",
        "    model = Model(inputs = X_input, outputs = X, name='ResNet50')\n",
        "\n",
        "    return model"
      ],
      "execution_count": null,
      "outputs": []
    },
    {
      "cell_type": "code",
      "metadata": {
        "id": "AY5HsPBczNOl",
        "colab_type": "code",
        "colab": {}
      },
      "source": [
        "(X_train,y_train),(X_test,y_test)=cifar10.load_data()\n",
        "X_train,X_test=X_train/255.0,X_test/255.0;"
      ],
      "execution_count": null,
      "outputs": []
    },
    {
      "cell_type": "code",
      "metadata": {
        "id": "XHQhel7wzavJ",
        "colab_type": "code",
        "colab": {}
      },
      "source": [
        "K=len(set(y_test[:,0]))"
      ],
      "execution_count": null,
      "outputs": []
    },
    {
      "cell_type": "code",
      "metadata": {
        "id": "FG-333Kb0Fqt",
        "colab_type": "code",
        "colab": {}
      },
      "source": [
        "model = ResNet50(input_shape = X_train[0].shape, classes = K)"
      ],
      "execution_count": null,
      "outputs": []
    },
    {
      "cell_type": "code",
      "metadata": {
        "id": "FsSvSf4h4H-p",
        "colab_type": "code",
        "colab": {}
      },
      "source": [
        "model.compile(optimizer='adam',loss='sparse_categorical_crossentropy',metrics=['accuracy'])"
      ],
      "execution_count": null,
      "outputs": []
    },
    {
      "cell_type": "code",
      "metadata": {
        "id": "wvP4TqZ_0LOJ",
        "colab_type": "code",
        "colab": {
          "base_uri": "https://localhost:8080/",
          "height": 1000
        },
        "outputId": "22e8d6ed-a847-4d19-9eb8-a8f0d91ba211"
      },
      "source": [
        "model.fit(X_train,y_train,epochs=30,batch_size=32,validation_data=(X_test,y_test))"
      ],
      "execution_count": null,
      "outputs": [
        {
          "output_type": "stream",
          "text": [
            "Epoch 1/30\n",
            "1563/1563 [==============================] - 52s 33ms/step - loss: 2.1431 - accuracy: 0.3362 - val_loss: 5.1372 - val_accuracy: 0.2778\n",
            "Epoch 2/30\n",
            "1563/1563 [==============================] - 52s 33ms/step - loss: 2.0608 - accuracy: 0.3584 - val_loss: 9.1620 - val_accuracy: 0.2725\n",
            "Epoch 3/30\n",
            "1563/1563 [==============================] - 52s 33ms/step - loss: 1.9813 - accuracy: 0.3611 - val_loss: 3.0892 - val_accuracy: 0.2875\n",
            "Epoch 4/30\n",
            "1563/1563 [==============================] - 52s 34ms/step - loss: 2.1987 - accuracy: 0.2877 - val_loss: 3.2368 - val_accuracy: 0.1598\n",
            "Epoch 5/30\n",
            "1563/1563 [==============================] - 52s 33ms/step - loss: 2.2721 - accuracy: 0.2341 - val_loss: 2.1206 - val_accuracy: 0.3081\n",
            "Epoch 6/30\n",
            "1563/1563 [==============================] - 52s 33ms/step - loss: 2.1588 - accuracy: 0.2643 - val_loss: 3.1201 - val_accuracy: 0.3218\n",
            "Epoch 7/30\n",
            "1563/1563 [==============================] - 51s 33ms/step - loss: 1.9241 - accuracy: 0.3445 - val_loss: 1.8453 - val_accuracy: 0.3686\n",
            "Epoch 8/30\n",
            "1563/1563 [==============================] - 51s 33ms/step - loss: 1.7938 - accuracy: 0.3811 - val_loss: 1.6245 - val_accuracy: 0.4250\n",
            "Epoch 9/30\n",
            "1563/1563 [==============================] - 51s 33ms/step - loss: 1.7342 - accuracy: 0.4031 - val_loss: 2.0080 - val_accuracy: 0.4032\n",
            "Epoch 10/30\n",
            "1563/1563 [==============================] - 52s 33ms/step - loss: 1.5049 - accuracy: 0.4697 - val_loss: 1.4422 - val_accuracy: 0.4817\n",
            "Epoch 11/30\n",
            "1563/1563 [==============================] - 51s 33ms/step - loss: 1.3635 - accuracy: 0.5236 - val_loss: 1.2800 - val_accuracy: 0.5368\n",
            "Epoch 12/30\n",
            "1563/1563 [==============================] - 51s 33ms/step - loss: 1.2159 - accuracy: 0.5702 - val_loss: 1.4958 - val_accuracy: 0.4961\n",
            "Epoch 13/30\n",
            "1563/1563 [==============================] - 51s 33ms/step - loss: 1.0895 - accuracy: 0.6192 - val_loss: 1.0749 - val_accuracy: 0.6160\n",
            "Epoch 14/30\n",
            "1563/1563 [==============================] - 51s 33ms/step - loss: 0.9717 - accuracy: 0.6628 - val_loss: 1.0959 - val_accuracy: 0.6196\n",
            "Epoch 15/30\n",
            "1563/1563 [==============================] - 52s 33ms/step - loss: 0.8613 - accuracy: 0.6998 - val_loss: 1.0000 - val_accuracy: 0.6549\n",
            "Epoch 16/30\n",
            "1563/1563 [==============================] - 52s 33ms/step - loss: 0.7892 - accuracy: 0.7259 - val_loss: 1.2259 - val_accuracy: 0.6167\n",
            "Epoch 17/30\n",
            "1563/1563 [==============================] - 51s 33ms/step - loss: 0.7119 - accuracy: 0.7535 - val_loss: 1.0388 - val_accuracy: 0.6435\n",
            "Epoch 18/30\n",
            "1563/1563 [==============================] - 51s 33ms/step - loss: 0.6372 - accuracy: 0.7777 - val_loss: 0.9419 - val_accuracy: 0.6924\n",
            "Epoch 19/30\n",
            "1563/1563 [==============================] - 51s 33ms/step - loss: 0.5605 - accuracy: 0.8039 - val_loss: 0.8944 - val_accuracy: 0.7084\n",
            "Epoch 20/30\n",
            "1563/1563 [==============================] - 51s 33ms/step - loss: 0.5019 - accuracy: 0.8246 - val_loss: 0.8600 - val_accuracy: 0.7131\n",
            "Epoch 21/30\n",
            "1563/1563 [==============================] - 51s 33ms/step - loss: 0.4427 - accuracy: 0.8456 - val_loss: 1.0238 - val_accuracy: 0.6955\n",
            "Epoch 22/30\n",
            "1563/1563 [==============================] - 52s 33ms/step - loss: 0.3784 - accuracy: 0.8668 - val_loss: 0.9903 - val_accuracy: 0.7095\n",
            "Epoch 23/30\n",
            "1563/1563 [==============================] - 51s 33ms/step - loss: 0.3260 - accuracy: 0.8865 - val_loss: 1.0286 - val_accuracy: 0.7159\n",
            "Epoch 24/30\n",
            "1563/1563 [==============================] - 51s 33ms/step - loss: 0.3380 - accuracy: 0.8842 - val_loss: 1.0761 - val_accuracy: 0.7091\n",
            "Epoch 25/30\n",
            "1563/1563 [==============================] - 51s 33ms/step - loss: 0.2539 - accuracy: 0.9119 - val_loss: 1.1081 - val_accuracy: 0.7086\n",
            "Epoch 26/30\n",
            "1563/1563 [==============================] - 52s 33ms/step - loss: 0.2385 - accuracy: 0.9158 - val_loss: 1.1848 - val_accuracy: 0.6958\n",
            "Epoch 27/30\n",
            "1563/1563 [==============================] - 52s 33ms/step - loss: 0.1997 - accuracy: 0.9313 - val_loss: 1.1347 - val_accuracy: 0.7244\n",
            "Epoch 28/30\n",
            "1563/1563 [==============================] - 52s 33ms/step - loss: 0.1893 - accuracy: 0.9346 - val_loss: 1.1280 - val_accuracy: 0.7322\n",
            "Epoch 29/30\n",
            "1563/1563 [==============================] - 51s 33ms/step - loss: 0.1561 - accuracy: 0.9463 - val_loss: 1.1261 - val_accuracy: 0.7325\n",
            "Epoch 30/30\n",
            "1563/1563 [==============================] - 52s 33ms/step - loss: 0.1535 - accuracy: 0.9477 - val_loss: 1.4534 - val_accuracy: 0.6921\n"
          ],
          "name": "stdout"
        },
        {
          "output_type": "execute_result",
          "data": {
            "text/plain": [
              "<tensorflow.python.keras.callbacks.History at 0x7f64118a1668>"
            ]
          },
          "metadata": {
            "tags": []
          },
          "execution_count": 12
        }
      ]
    },
    {
      "cell_type": "code",
      "metadata": {
        "id": "qcqiC71Y4GbQ",
        "colab_type": "code",
        "colab": {}
      },
      "source": [
        ""
      ],
      "execution_count": null,
      "outputs": []
    },
    {
      "cell_type": "code",
      "metadata": {
        "id": "5N5hDc_c4BNR",
        "colab_type": "code",
        "colab": {}
      },
      "source": [
        ""
      ],
      "execution_count": null,
      "outputs": []
    }
  ]
}